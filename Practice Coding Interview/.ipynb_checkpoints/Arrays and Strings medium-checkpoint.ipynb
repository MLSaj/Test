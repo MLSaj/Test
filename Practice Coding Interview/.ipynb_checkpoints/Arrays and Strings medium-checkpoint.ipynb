{
 "cells": [
  {
   "cell_type": "code",
   "execution_count": 108,
   "metadata": {},
   "outputs": [],
   "source": [
    "#nums = [-1, 0, 1, 2, -1, -4]\n",
    "nums = [-1,0,1,2,-1,-4]\n",
    "nums.sort()\n",
    "hash_complement = {}\n",
    "solution_set = []\n",
    "answer_set = []"
   ]
  },
  {
   "cell_type": "code",
   "execution_count": 109,
   "metadata": {},
   "outputs": [
    {
     "name": "stdout",
     "output_type": "stream",
     "text": [
      "-4 -1\n",
      "-4 -1\n",
      "-4 0\n",
      "-4 1\n",
      "-4 2\n",
      "-1 -1\n",
      "Okay we are here\n",
      "5 1 2\n",
      "{-4: 0, -1: 2, 0: 3, 1: 4, 2: 5}\n",
      "\n",
      "\n",
      "Now here\n",
      "-1 0\n",
      "Okay we are here\n",
      "4 1 3\n",
      "{-4: 0, -1: 2, 0: 3, 1: 4, 2: 5}\n",
      "\n",
      "\n",
      "Now here\n",
      "-1 1\n",
      "Okay we are here\n",
      "3 1 4\n",
      "{-4: 0, -1: 2, 0: 3, 1: 4, 2: 5}\n",
      "\n",
      "\n",
      "-1 2\n",
      "Okay we are here\n",
      "2 1 5\n",
      "{-4: 0, -1: 2, 0: 3, 1: 4, 2: 5}\n",
      "\n",
      "\n",
      "-1 0\n",
      "Okay we are here\n",
      "4 2 3\n",
      "{-4: 0, -1: 2, 0: 3, 1: 4, 2: 5}\n",
      "\n",
      "\n",
      "-1 1\n",
      "Okay we are here\n",
      "3 2 4\n",
      "{-4: 0, -1: 2, 0: 3, 1: 4, 2: 5}\n",
      "\n",
      "\n",
      "-1 2\n",
      "0 1\n",
      "Okay we are here\n",
      "2 3 4\n",
      "{-4: 0, -1: 2, 0: 3, 1: 4, 2: 5}\n",
      "\n",
      "\n",
      "0 2\n",
      "1 2\n"
     ]
    }
   ],
   "source": [
    "for i in range(len(nums) - 1):\n",
    "    for j in range(i+1,len(nums)):\n",
    "        complement = -nums[i] - nums[j]\n",
    "        print(nums[i],nums[j])\n",
    "        if(complement in hash_complement.keys()):\n",
    "            if hash_complement[complement] != i and hash_complement[complement] != j:\n",
    "                print(\"Okay we are here\")\n",
    "                print(hash_complement[complement],i,j)\n",
    "                print(hash_complement)\n",
    "                print(\"\\n\")\n",
    "                chosen_set = set([nums[i],nums[j],complement])\n",
    "                if chosen_set not in answer_set:\n",
    "                    print(\"Now here\")\n",
    "                    solution_set.append([nums[i],nums[j],complement])\n",
    "                    answer_set.append(chosen_set)\n",
    "        else:\n",
    "            hash_complement[nums[i]] = i\n",
    "            hash_complement[nums[j]] = j\n",
    "         #print(\"Complement is\" + str(complement) + \"\\n\")"
   ]
  },
  {
   "cell_type": "code",
   "execution_count": 110,
   "metadata": {},
   "outputs": [
    {
     "data": {
      "text/plain": [
       "[[-1, -1, 2], [-1, 0, 1]]"
      ]
     },
     "execution_count": 110,
     "metadata": {},
     "output_type": "execute_result"
    }
   ],
   "source": [
    "solution_set"
   ]
  },
  {
   "cell_type": "code",
   "execution_count": 106,
   "metadata": {},
   "outputs": [],
   "source": [
    "nums.sort()"
   ]
  },
  {
   "cell_type": "code",
   "execution_count": 107,
   "metadata": {},
   "outputs": [
    {
     "data": {
      "text/plain": [
       "[23, 40]"
      ]
     },
     "execution_count": 107,
     "metadata": {},
     "output_type": "execute_result"
    }
   ],
   "source": [
    "nums"
   ]
  },
  {
   "cell_type": "code",
   "execution_count": 35,
   "metadata": {},
   "outputs": [
    {
     "data": {
      "text/plain": [
       "False"
      ]
     },
     "execution_count": 35,
     "metadata": {},
     "output_type": "execute_result"
    }
   ],
   "source": [
    "'a' not in a.keys()"
   ]
  },
  {
   "cell_type": "code",
   "execution_count": 62,
   "metadata": {},
   "outputs": [],
   "source": [
    "bset = set([1,2,3])"
   ]
  },
  {
   "cell_type": "code",
   "execution_count": 63,
   "metadata": {},
   "outputs": [],
   "source": [
    "array1 = []"
   ]
  },
  {
   "cell_type": "code",
   "execution_count": 64,
   "metadata": {},
   "outputs": [],
   "source": [
    "array1.append(bset)"
   ]
  },
  {
   "cell_type": "code",
   "execution_count": 65,
   "metadata": {},
   "outputs": [
    {
     "data": {
      "text/plain": [
       "True"
      ]
     },
     "execution_count": 65,
     "metadata": {},
     "output_type": "execute_result"
    }
   ],
   "source": [
    "set([1,2,3]) in array1"
   ]
  },
  {
   "cell_type": "code",
   "execution_count": 66,
   "metadata": {},
   "outputs": [],
   "source": [
    " array1.append(bset)"
   ]
  },
  {
   "cell_type": "code",
   "execution_count": 112,
   "metadata": {},
   "outputs": [
    {
     "data": {
      "text/plain": [
       "[-4, -1, -1, 0, 1, 2]"
      ]
     },
     "execution_count": 112,
     "metadata": {},
     "output_type": "execute_result"
    }
   ],
   "source": [
    "nums"
   ]
  },
  {
   "cell_type": "code",
   "execution_count": 114,
   "metadata": {},
   "outputs": [],
   "source": [
    "solution_set = []\n",
    "aset = []\n",
    "for i in range(len(nums) - 2):\n",
    "    for j in range(i+1,len(nums) - 1):\n",
    "        for k in range(j+1,len(nums)):\n",
    "            a = nums[i]\n",
    "            b = nums[j]\n",
    "            c = nums[k]\n",
    "            if(a+b+c == 0):\n",
    "                chosen_set = set([a,b,c])\n",
    "                if chosen_set not in aset:\n",
    "                    aset.append(chosen_set)\n",
    "                    solution_set.append([a,b,c])"
   ]
  },
  {
   "cell_type": "code",
   "execution_count": 115,
   "metadata": {},
   "outputs": [
    {
     "data": {
      "text/plain": [
       "[[-1, -1, 2], [-1, 0, 1]]"
      ]
     },
     "execution_count": 115,
     "metadata": {},
     "output_type": "execute_result"
    }
   ],
   "source": [
    "solution_set"
   ]
  },
  {
   "cell_type": "code",
   "execution_count": 118,
   "metadata": {},
   "outputs": [],
   "source": [
    "array = [\"eat\", \"tea\", \"tan\", \"ate\", \"nat\", \"bat\"]"
   ]
  },
  {
   "cell_type": "code",
   "execution_count": 191,
   "metadata": {},
   "outputs": [],
   "source": [
    "total_word_dict = {}\n",
    "for word in array:\n",
    "    word_future_tuple = []\n",
    "    for letter in word:\n",
    "        word_future_tuple.append(letter)\n",
    "    word_future_tuple.sort()\n",
    "    word_tuple = tuple(word_future_tuple)\n",
    "    total_word_dict.setdefault(word_tuple, []).append(word)\n",
    "\n",
    "last_list = []\n",
    "for key in total_word_dict:\n",
    "    last_list.append(total_word_dict[key])"
   ]
  },
  {
   "cell_type": "code",
   "execution_count": 192,
   "metadata": {},
   "outputs": [
    {
     "data": {
      "text/plain": [
       "[['eat', 'tea', 'ate'], ['tan', 'nat'], ['bat']]"
      ]
     },
     "execution_count": 192,
     "metadata": {},
     "output_type": "execute_result"
    }
   ],
   "source": [
    "last_list"
   ]
  },
  {
   "cell_type": "code",
   "execution_count": 134,
   "metadata": {},
   "outputs": [],
   "source": [
    "dict1 = 'a'"
   ]
  },
  {
   "cell_type": "code",
   "execution_count": 135,
   "metadata": {},
   "outputs": [
    {
     "data": {
      "text/plain": [
       "False"
      ]
     },
     "execution_count": 135,
     "metadata": {},
     "output_type": "execute_result"
    }
   ],
   "source": [
    "dict1 in word_dict1"
   ]
  },
  {
   "cell_type": "code",
   "execution_count": 144,
   "metadata": {},
   "outputs": [],
   "source": [
    "dict1 = {'cat':['cat','bat','rat']}"
   ]
  },
  {
   "cell_type": "code",
   "execution_count": 145,
   "metadata": {},
   "outputs": [],
   "source": [
    "dict1 = {'c':1, 'a':1, 't':1}"
   ]
  },
  {
   "cell_type": "code",
   "execution_count": 146,
   "metadata": {},
   "outputs": [],
   "source": [
    "array2 = [{'c':1, 'a':1, 't':1}, {'b':1}]"
   ]
  },
  {
   "cell_type": "code",
   "execution_count": 148,
   "metadata": {},
   "outputs": [],
   "source": [
    "thistuple = (\"apple\", \"banana\", \"cherry\")"
   ]
  },
  {
   "cell_type": "code",
   "execution_count": 149,
   "metadata": {},
   "outputs": [
    {
     "name": "stdout",
     "output_type": "stream",
     "text": [
      "('apple', 'banana', 'cherry')\n"
     ]
    }
   ],
   "source": [
    "print(thistuple)"
   ]
  },
  {
   "cell_type": "code",
   "execution_count": 155,
   "metadata": {},
   "outputs": [],
   "source": [
    "thistuple = (\"a\",\"e\",\"t\")"
   ]
  },
  {
   "cell_type": "code",
   "execution_count": 156,
   "metadata": {},
   "outputs": [],
   "source": [
    "btuple = (\"t\",\"e\",\"a\")"
   ]
  },
  {
   "cell_type": "code",
   "execution_count": 167,
   "metadata": {},
   "outputs": [],
   "source": [
    "a = [\"a\",\"t\",\"e\"]"
   ]
  },
  {
   "cell_type": "code",
   "execution_count": 170,
   "metadata": {},
   "outputs": [
    {
     "data": {
      "text/plain": [
       "('a', 'e', 't')"
      ]
     },
     "execution_count": 170,
     "metadata": {},
     "output_type": "execute_result"
    }
   ],
   "source": [
    "tuple(a)"
   ]
  },
  {
   "cell_type": "code",
   "execution_count": 171,
   "metadata": {},
   "outputs": [],
   "source": [
    "word_dict1 = {}"
   ]
  },
  {
   "cell_type": "code",
   "execution_count": 173,
   "metadata": {},
   "outputs": [],
   "source": [
    "word_dict1[\"cat\"] = 'a'"
   ]
  },
  {
   "cell_type": "code",
   "execution_count": 174,
   "metadata": {},
   "outputs": [
    {
     "data": {
      "text/plain": [
       "{'cat': 'a'}"
      ]
     },
     "execution_count": 174,
     "metadata": {},
     "output_type": "execute_result"
    }
   ],
   "source": [
    "word_dict1"
   ]
  },
  {
   "cell_type": "code",
   "execution_count": 193,
   "metadata": {},
   "outputs": [
    {
     "name": "stdout",
     "output_type": "stream",
     "text": [
      "hello\n",
      "hello\n"
     ]
    }
   ],
   "source": [
    "if(5>3):\n",
    "    print(\"hello\")\n",
    "if(5<3):\n",
    "    print(\"bye\")\n",
    "else:\n",
    "    print(\"hello\")"
   ]
  },
  {
   "cell_type": "code",
   "execution_count": 194,
   "metadata": {},
   "outputs": [],
   "source": [
    "a = [-1,0,1,2,-1,-4]\n",
    "a.sort()"
   ]
  },
  {
   "cell_type": "code",
   "execution_count": 205,
   "metadata": {},
   "outputs": [],
   "source": [
    "nums = [0,0,0,0]"
   ]
  },
  {
   "cell_type": "code",
   "execution_count": 1,
   "metadata": {},
   "outputs": [
    {
     "name": "stdout",
     "output_type": "stream",
     "text": [
      "Hello\n"
     ]
    }
   ],
   "source": [
    "print(\"Hello\")"
   ]
  },
  {
   "cell_type": "code",
   "execution_count": 3,
   "metadata": {},
   "outputs": [],
   "source": [
    "def merge_sort(list1,list2):\n",
    "    length1 = len(list1)\n",
    "    length2 = len(list2)\n",
    "    i = 0\n",
    "    j = 0\n",
    "    new_list = []\n",
    "    while(i<length1 and j < length2):\n",
    "        if(list1[i] < list2[j]):\n",
    "            new_list.append(list1[i])\n",
    "            i = i + 1\n",
    "        else:\n",
    "            new_list.append(list2[j])\n",
    "            j = j + 1\n",
    "    \n",
    "    while(i < length1):\n",
    "        new_list.append(list1[i])\n",
    "        i = i + 1\n",
    "    while(j < length2):\n",
    "        new_list.append(list2[j])\n",
    "        j += 1 \n",
    "    return new_list"
   ]
  },
  {
   "cell_type": "code",
   "execution_count": 8,
   "metadata": {},
   "outputs": [],
   "source": [
    "lista = merge_sort([1,2,7,8],[3,4,5,25])"
   ]
  },
  {
   "cell_type": "code",
   "execution_count": 9,
   "metadata": {},
   "outputs": [
    {
     "data": {
      "text/plain": [
       "[1, 2, 3, 4, 5, 7, 8, 25]"
      ]
     },
     "execution_count": 9,
     "metadata": {},
     "output_type": "execute_result"
    }
   ],
   "source": [
    "lista"
   ]
  },
  {
   "cell_type": "code",
   "execution_count": null,
   "metadata": {},
   "outputs": [],
   "source": [
    "print(lista)"
   ]
  },
  {
   "cell_type": "code",
   "execution_count": 10,
   "metadata": {},
   "outputs": [],
   "source": [
    "a = \"abcabcbb\"\n",
    "repeating_hash_map = {}"
   ]
  },
  {
   "cell_type": "code",
   "execution_count": 11,
   "metadata": {},
   "outputs": [
    {
     "name": "stdout",
     "output_type": "stream",
     "text": [
      "a\n",
      "ab\n",
      "abc\n",
      "abca\n",
      "abcab\n",
      "abcabc\n",
      "abcabcb\n",
      "abcabcbb\n",
      "b\n",
      "bc\n",
      "bca\n",
      "bcab\n",
      "bcabc\n",
      "bcabcb\n",
      "bcabcbb\n",
      "c\n",
      "ca\n",
      "cab\n",
      "cabc\n",
      "cabcb\n",
      "cabcbb\n",
      "a\n",
      "ab\n",
      "abc\n",
      "abcb\n",
      "abcbb\n",
      "b\n",
      "bc\n",
      "bcb\n",
      "bcbb\n",
      "c\n",
      "cb\n",
      "cbb\n",
      "b\n",
      "bb\n",
      "b\n"
     ]
    }
   ],
   "source": [
    "for i in range(len(a)):\n",
    "    for j in range(i+1,len(a)+1):\n",
    "        print(a[i:j])"
   ]
  },
  {
   "cell_type": "code",
   "execution_count": 61,
   "metadata": {},
   "outputs": [],
   "source": [
    "s = \"pwwke\"\n",
    "repeating_hash_map = {}"
   ]
  },
  {
   "cell_type": "code",
   "execution_count": 63,
   "metadata": {},
   "outputs": [],
   "source": [
    "d = {}\n",
    "p1 = p2 = m = 0\n",
    "        \n",
    "while p2 < len(s):\n",
    "    if s[p2] not in d:\n",
    "        d[s[p2]] = True\n",
    "        p2 += 1\n",
    "        m = max(len(d), m)\n",
    "    else:\n",
    "        del d[s[p1]]\n",
    "        p1 += 1\n",
    "\n"
   ]
  },
  {
   "cell_type": "code",
   "execution_count": 64,
   "metadata": {},
   "outputs": [
    {
     "data": {
      "text/plain": [
       "3"
      ]
     },
     "execution_count": 64,
     "metadata": {},
     "output_type": "execute_result"
    }
   ],
   "source": [
    "m"
   ]
  },
  {
   "cell_type": "code",
   "execution_count": 39,
   "metadata": {},
   "outputs": [],
   "source": [
    "adict = {1:'4'}"
   ]
  },
  {
   "cell_type": "code",
   "execution_count": 42,
   "metadata": {},
   "outputs": [
    {
     "data": {
      "text/plain": [
       "1"
      ]
     },
     "execution_count": 42,
     "metadata": {},
     "output_type": "execute_result"
    }
   ],
   "source": [
    "len(adict)"
   ]
  },
  {
   "cell_type": "code",
   "execution_count": 46,
   "metadata": {},
   "outputs": [],
   "source": [
    "del adict[1]"
   ]
  },
  {
   "cell_type": "code",
   "execution_count": 49,
   "metadata": {},
   "outputs": [
    {
     "data": {
      "text/plain": [
       "{1: '4'}"
      ]
     },
     "execution_count": 49,
     "metadata": {},
     "output_type": "execute_result"
    }
   ],
   "source": [
    "adict"
   ]
  },
  {
   "cell_type": "code",
   "execution_count": 48,
   "metadata": {},
   "outputs": [],
   "source": [
    "adict = {1:'4'}"
   ]
  },
  {
   "cell_type": "code",
   "execution_count": 81,
   "metadata": {},
   "outputs": [],
   "source": [
    "word = \"Helllo\"\n",
    "word = \"blahhhhhh\""
   ]
  },
  {
   "cell_type": "code",
   "execution_count": 90,
   "metadata": {},
   "outputs": [],
   "source": [
    "def max_repeated(word):  \n",
    "    i = 0\n",
    "    amax = 0\n",
    "    while(i < len(word)):\n",
    "        j = i\n",
    "        repeated_max = 0\n",
    "        while(j < len(word) and word[j] == word[i] ):\n",
    "            repeated_max += 1\n",
    "            j += 1\n",
    "        i = j\n",
    "        amax = max(repeated_max,amax)\n",
    "    return amax\n",
    "        "
   ]
  },
  {
   "cell_type": "code",
   "execution_count": 101,
   "metadata": {},
   "outputs": [],
   "source": [
    "def max_word(sentence):\n",
    "    max_length = 0\n",
    "    max_word = \"\"\n",
    "    for word in sentence.split():\n",
    "        max_repeated_length = max_repeated(word)\n",
    "        if(max_repeated_length > max_length):\n",
    "            max_length= max_repeated_length\n",
    "            max_word = word\n",
    "    if(max_length > 1):\n",
    "        return max_word\n",
    "    else:\n",
    "        return -1\n",
    "        "
   ]
  },
  {
   "cell_type": "code",
   "execution_count": 103,
   "metadata": {},
   "outputs": [
    {
     "data": {
      "text/plain": [
       "'worrrrrrrrrrrrrrrrrrrrrrllllllllld'"
      ]
     },
     "execution_count": 103,
     "metadata": {},
     "output_type": "execute_result"
    }
   ],
   "source": [
    "max_word(\"Helllllo worrrrrrrrrrrrrrrrrrrrrrllllllllld\")"
   ]
  },
  {
   "cell_type": "code",
   "execution_count": 93,
   "metadata": {},
   "outputs": [
    {
     "data": {
      "text/plain": [
       "2"
      ]
     },
     "execution_count": 93,
     "metadata": {},
     "output_type": "execute_result"
    }
   ],
   "source": [
    "max_repeated(\"Hello\")"
   ]
  },
  {
   "cell_type": "code",
   "execution_count": 96,
   "metadata": {},
   "outputs": [],
   "source": [
    "sentence = \"Hello world\""
   ]
  },
  {
   "cell_type": "code",
   "execution_count": 171,
   "metadata": {},
   "outputs": [],
   "source": [
    "matrix = [[0,1,2,0],\n",
    "          [3,4,5,2],\n",
    "          [1,3,1,5]]"
   ]
  },
  {
   "cell_type": "code",
   "execution_count": 161,
   "metadata": {},
   "outputs": [
    {
     "data": {
      "text/plain": [
       "4"
      ]
     },
     "execution_count": 161,
     "metadata": {},
     "output_type": "execute_result"
    }
   ],
   "source": []
  },
  {
   "cell_type": "code",
   "execution_count": 172,
   "metadata": {},
   "outputs": [],
   "source": [
    "column_hash = {}\n",
    "n = len(matrix[0])\n",
    "for i in range(len(matrix)):\n",
    "    row_true = False\n",
    "    for j in range(len(matrix[0])):\n",
    "        if(matrix[i][j] == 0):\n",
    "            row_true = True\n",
    "            column_hash[j] = True\n",
    "    if(row_true):\n",
    "        matrix[i] = [0]*n\n",
    "\n",
    "for i in range(len(matrix)):\n",
    "    for j in range(len(matrix[0])):\n",
    "        if j in column_hash:\n",
    "            matrix[i][j] = 0"
   ]
  },
  {
   "cell_type": "code",
   "execution_count": 173,
   "metadata": {},
   "outputs": [
    {
     "data": {
      "text/plain": [
       "{0: True, 3: True}"
      ]
     },
     "execution_count": 173,
     "metadata": {},
     "output_type": "execute_result"
    }
   ],
   "source": [
    "column_hash"
   ]
  },
  {
   "cell_type": "code",
   "execution_count": 174,
   "metadata": {},
   "outputs": [
    {
     "data": {
      "text/plain": [
       "[[0, 0, 0, 0], [0, 4, 5, 0], [0, 3, 1, 0]]"
      ]
     },
     "execution_count": 174,
     "metadata": {},
     "output_type": "execute_result"
    }
   ],
   "source": [
    "matrix"
   ]
  },
  {
   "cell_type": "code",
   "execution_count": 151,
   "metadata": {},
   "outputs": [
    {
     "name": "stdout",
     "output_type": "stream",
     "text": [
      "1\n",
      "0\n",
      "1\n",
      "0\n",
      "0\n",
      "0\n",
      "1\n",
      "0\n",
      "1\n"
     ]
    }
   ],
   "source": [
    "for i in range(len(array)):\n",
    "    for j in range(len(array)):\n",
    "        print(array[j][i])"
   ]
  },
  {
   "cell_type": "code",
   "execution_count": 179,
   "metadata": {},
   "outputs": [],
   "source": [
    "def look_at_middle(s,left,right):\n",
    "            if(s == None or left > right):\n",
    "                return None\n",
    "            \n",
    "            while(right < len(s) and left >= 0 and s[left] == s[right]):\n",
    "                left -= 1\n",
    "                right += 1\n",
    "            print(right,left)\n",
    "            \n",
    "            return right - left - 1"
   ]
  },
  {
   "cell_type": "code",
   "execution_count": 180,
   "metadata": {},
   "outputs": [
    {
     "name": "stdout",
     "output_type": "stream",
     "text": [
      "3 -1\n"
     ]
    },
    {
     "data": {
      "text/plain": [
       "3"
      ]
     },
     "execution_count": 180,
     "metadata": {},
     "output_type": "execute_result"
    }
   ],
   "source": [
    "look_at_middle(\"babd\",1,1)"
   ]
  },
  {
   "cell_type": "code",
   "execution_count": 181,
   "metadata": {},
   "outputs": [],
   "source": [
    "string = \"babd\""
   ]
  },
  {
   "cell_type": "code",
   "execution_count": 183,
   "metadata": {},
   "outputs": [
    {
     "data": {
      "text/plain": [
       "'bab'"
      ]
     },
     "execution_count": 183,
     "metadata": {},
     "output_type": "execute_result"
    }
   ],
   "source": [
    "string[0:3]"
   ]
  },
  {
   "cell_type": "code",
   "execution_count": 189,
   "metadata": {},
   "outputs": [],
   "source": [
    "start = 1 - (3-1)//2"
   ]
  },
  {
   "cell_type": "code",
   "execution_count": 187,
   "metadata": {},
   "outputs": [
    {
     "data": {
      "text/plain": [
       "0"
      ]
     },
     "execution_count": 187,
     "metadata": {},
     "output_type": "execute_result"
    }
   ],
   "source": [
    "int(start)"
   ]
  },
  {
   "cell_type": "code",
   "execution_count": 188,
   "metadata": {},
   "outputs": [
    {
     "ename": "TypeError",
     "evalue": "string indices must be integers",
     "output_type": "error",
     "traceback": [
      "\u001b[0;31m---------------------------------------------------------------------------\u001b[0m",
      "\u001b[0;31mTypeError\u001b[0m                                 Traceback (most recent call last)",
      "\u001b[0;32m<ipython-input-188-9ceef22b1ee8>\u001b[0m in \u001b[0;36m<module>\u001b[0;34m\u001b[0m\n\u001b[0;32m----> 1\u001b[0;31m \u001b[0mstring\u001b[0m\u001b[0;34m[\u001b[0m\u001b[0mstart\u001b[0m\u001b[0;34m]\u001b[0m\u001b[0;34m\u001b[0m\u001b[0;34m\u001b[0m\u001b[0m\n\u001b[0m",
      "\u001b[0;31mTypeError\u001b[0m: string indices must be integers"
     ]
    }
   ],
   "source": [
    "string[start]"
   ]
  },
  {
   "cell_type": "code",
   "execution_count": null,
   "metadata": {},
   "outputs": [],
   "source": []
  }
 ],
 "metadata": {
  "kernelspec": {
   "display_name": "Python 3",
   "language": "python",
   "name": "python3"
  },
  "language_info": {
   "codemirror_mode": {
    "name": "ipython",
    "version": 3
   },
   "file_extension": ".py",
   "mimetype": "text/x-python",
   "name": "python",
   "nbconvert_exporter": "python",
   "pygments_lexer": "ipython3",
   "version": "3.7.3"
  }
 },
 "nbformat": 4,
 "nbformat_minor": 2
}
