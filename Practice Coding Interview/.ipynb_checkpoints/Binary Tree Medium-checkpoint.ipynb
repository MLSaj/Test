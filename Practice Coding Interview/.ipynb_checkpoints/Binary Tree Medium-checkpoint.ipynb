{
 "cells": [
  {
   "cell_type": "code",
   "execution_count": 17,
   "metadata": {},
   "outputs": [],
   "source": [
    "class TreeNode:\n",
    "     def __init__(self, x):\n",
    "         self.val = x\n",
    "         self.left = None\n",
    "         self.right = None\n",
    "\n",
    "        "
   ]
  },
  {
   "cell_type": "code",
   "execution_count": 18,
   "metadata": {},
   "outputs": [],
   "source": [
    "head = TreeNode(3)"
   ]
  },
  {
   "cell_type": "code",
   "execution_count": 19,
   "metadata": {},
   "outputs": [],
   "source": [
    "head.left = TreeNode(9)\n",
    "head.right = TreeNode(20)\n",
    "head.right.left = TreeNode(15)\n",
    "head.right.right = TreeNode(7)"
   ]
  },
  {
   "cell_type": "code",
   "execution_count": 20,
   "metadata": {},
   "outputs": [],
   "source": [
    "\n",
    "\n",
    "def zig_zag(root,zigzag = 0, final_array = [],start = 1):\n",
    "    if root != None:\n",
    "        if start == 0:\n",
    "            final_array.append([root.val])\n",
    "        if(zigzag == 0):\n",
    "            #append left then right child\n",
    "            array = []\n",
    "            if(root.left):\n",
    "                array.append(root.left.val)\n",
    "            if(root.right):\n",
    "                array.append(root.right.val)\n",
    "            final_array.append(array)\n",
    "            if root.left:\n",
    "                zig_zag(root.left,1,final_array)\n",
    "            if(root.right):\n",
    "                zig_zag(root.right,1,final_array)\n",
    "\n",
    "        if(zigzag == 1):\n",
    "            #append left then right child\n",
    "            array = []\n",
    "            if(root.right):\n",
    "                array.append(root.right.val)\n",
    "            if(root.left):\n",
    "                array.append(root.left.val)\n",
    "            final_array.append(array)\n",
    "            if root.right:\n",
    "                zig_zag(root.right,0,final_array)\n",
    "            if(root.left):\n",
    "                zig_zag(root.left,0,final_array)\n",
    "\n",
    "    return final_array\n",
    "\n",
    "def zig_zag_caller(root):\n",
    "    final_array = []\n",
    "    zigzag = 0\n",
    "    start = 0\n",
    "    zig_zag(root,0,final_array,start)\n",
    "    return final_array\n",
    "\n",
    "\n"
   ]
  },
  {
   "cell_type": "code",
   "execution_count": 21,
   "metadata": {},
   "outputs": [
    {
     "data": {
      "text/plain": [
       "[[3], [9, 20], [], [7, 15], [], []]"
      ]
     },
     "execution_count": 21,
     "metadata": {},
     "output_type": "execute_result"
    }
   ],
   "source": [
    "zig_zag_caller(head)"
   ]
  },
  {
   "cell_type": "code",
   "execution_count": null,
   "metadata": {},
   "outputs": [],
   "source": []
  }
 ],
 "metadata": {
  "kernelspec": {
   "display_name": "Python 3",
   "language": "python",
   "name": "python3"
  },
  "language_info": {
   "codemirror_mode": {
    "name": "ipython",
    "version": 3
   },
   "file_extension": ".py",
   "mimetype": "text/x-python",
   "name": "python",
   "nbconvert_exporter": "python",
   "pygments_lexer": "ipython3",
   "version": "3.7.3"
  }
 },
 "nbformat": 4,
 "nbformat_minor": 2
}
