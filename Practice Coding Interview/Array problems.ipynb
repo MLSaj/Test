{
 "cells": [
  {
   "cell_type": "code",
   "execution_count": 39,
   "metadata": {},
   "outputs": [],
   "source": [
    "numbers = [2,3,7,15]\n",
    "target = 9"
   ]
  },
  {
   "cell_type": "code",
   "execution_count": 40,
   "metadata": {},
   "outputs": [],
   "source": [
    "start = 0\n",
    "end = len(numbers) - 1"
   ]
  },
  {
   "cell_type": "code",
   "execution_count": 41,
   "metadata": {},
   "outputs": [],
   "source": [
    "good = True\n",
    "while((numbers[start]+numbers[end]) != target and good):\n",
    "    if start > end:\n",
    "        good = False \n",
    "    if((numbers[start]+numbers[end]) > target):\n",
    "        end = end - 1  \n",
    "    elif((numbers[start]+numbers[end]) < target) :\n",
    "        start = start + 1    "
   ]
  },
  {
   "cell_type": "code",
   "execution_count": 42,
   "metadata": {},
   "outputs": [
    {
     "data": {
      "text/plain": [
       "0"
      ]
     },
     "execution_count": 42,
     "metadata": {},
     "output_type": "execute_result"
    }
   ],
   "source": [
    "start"
   ]
  },
  {
   "cell_type": "code",
   "execution_count": 43,
   "metadata": {},
   "outputs": [
    {
     "data": {
      "text/plain": [
       "2"
      ]
     },
     "execution_count": 43,
     "metadata": {},
     "output_type": "execute_result"
    }
   ],
   "source": [
    "end"
   ]
  },
  {
   "cell_type": "code",
   "execution_count": 44,
   "metadata": {},
   "outputs": [
    {
     "data": {
      "text/plain": [
       "True"
      ]
     },
     "execution_count": 44,
     "metadata": {},
     "output_type": "execute_result"
    }
   ],
   "source": [
    "good"
   ]
  },
  {
   "cell_type": "code",
   "execution_count": 46,
   "metadata": {},
   "outputs": [],
   "source": [
    "#Start of a line y = mx + b\n",
    "# [[1,1],[2,2],[3,3]]\n",
    "# \n",
    "# \n",
    "# 1 = 1*1 + 1\n",
    "# "
   ]
  },
  {
   "cell_type": "code",
   "execution_count": 47,
   "metadata": {},
   "outputs": [],
   "source": [
    "# 1 = m*1  + b\n",
    "# 2 = m*2 + b"
   ]
  },
  {
   "cell_type": "code",
   "execution_count": 48,
   "metadata": {},
   "outputs": [],
   "source": [
    "#3sum\n",
    "\n",
    "#Given an array nums of n integers, are there elements a, b, c in\n",
    "#nums such that a + b + c = 0? Find all unique triplets in the array which gives the sum of zero.\n",
    "\n",
    "\n",
    "#Given array nums = [-1, 0, 1, 2, -1, -4],\n",
    "\n",
    "##A solution set is:\n",
    "#[\n",
    "  #[-1, 0, 1],\n",
    "  #[-1, -1, 2]\n",
    "#\n",
    "\n"
   ]
  },
  {
   "cell_type": "code",
   "execution_count": 110,
   "metadata": {},
   "outputs": [
    {
     "name": "stdout",
     "output_type": "stream",
     "text": [
      "[1, 2, -1, -4]\n"
     ]
    }
   ],
   "source": [
    "example = [-1,0,1,2,-1,-4]\n",
    "answers = []\n",
    "for i in range(len(example)):\n",
    "    a = example[i]\n",
    "    #print(first_number)\n",
    "    for j in range(len(example)-1):\n",
    "        b = example[j+1]\n",
    "        if a == 0 and b == 0:\n",
    "            print(example[j+2:])\n",
    "        c = -a -b\n",
    "        if c in example[j+2:]:\n",
    "            #print(\"okay\")\n",
    "            possible_answer = [a,b,c]\n",
    "            if len(answers) == 0:\n",
    "                answers.append(possible_answer)\n",
    "            else:\n",
    "                list_not_end = True\n",
    "                not_same = True\n",
    "                k = 0\n",
    "                length = len(answers)\n",
    "                while(k < length and not_same):\n",
    "                    intersection = list(set(possible_answer).intersection(answers[k]))\n",
    "                    intersection_length = len(intersection)\n",
    "                    possible_answer_length = len(set(possible_answer))\n",
    "                    if  intersection_length == possible_answer_length:\n",
    "                        not_same = False\n",
    "                    k = k + 1\n",
    "                if(not_same is True):\n",
    "                    answers.append(possible_answer)\n",
    "                    "
   ]
  },
  {
   "cell_type": "code",
   "execution_count": 138,
   "metadata": {},
   "outputs": [
    {
     "name": "stdout",
     "output_type": "stream",
     "text": [
      "[-1, 0, 1, 2, -1, -4]\n",
      "[-1, 0]\n",
      "[-1, 1]\n",
      "[-1, 2]\n",
      "[-1, -1]\n",
      "[-1, -4]\n",
      "[0, 1]\n",
      "[0, 2]\n",
      "[0, -1]\n",
      "[0, -4]\n",
      "[1, 2]\n",
      "[1, -1]\n",
      "[1, -4]\n",
      "[2, -1]\n",
      "[2, -4]\n",
      "[-1, -4]\n"
     ]
    }
   ],
   "source": [
    "print(example)\n",
    "answers = []\n",
    "for i in range(len(example)):\n",
    "    a=(example[i])\n",
    "    for j in range(len(example)-(i+1)):\n",
    "        b=(example[j+i+1])\n",
    "        print([a,b])\n",
    "        c = -a - b\n",
    "        if c in example[j+i+2:]:\n",
    "           #print(\"okay\")\n",
    "            possible_answer = [a,b,c]\n",
    "            if len(answers) == 0:\n",
    "                answers.append(possible_answer)\n",
    "            else:\n",
    "                list_not_end = True\n",
    "                not_same = True\n",
    "                k = 0\n",
    "                length = len(answers)\n",
    "                while(k < length and not_same):\n",
    "                    intersection = list(set(possible_answer).intersection(answers[k]))\n",
    "                    intersection_length = len(intersection)\n",
    "                    possible_answer_length = len(set(possible_answer))\n",
    "                    if  intersection_length == possible_answer_length:\n",
    "                        not_same = False\n",
    "                    k = k + 1\n",
    "                if(not_same is True):\n",
    "                    answers.append(possible_answer)\n"
   ]
  },
  {
   "cell_type": "code",
   "execution_count": 139,
   "metadata": {},
   "outputs": [
    {
     "data": {
      "text/plain": [
       "[[-1, 0, 1], [-1, 2, -1]]"
      ]
     },
     "execution_count": 139,
     "metadata": {},
     "output_type": "execute_result"
    }
   ],
   "source": [
    "answers"
   ]
  },
  {
   "cell_type": "code",
   "execution_count": 56,
   "metadata": {},
   "outputs": [
    {
     "ename": "ValueError",
     "evalue": "3 is not in list",
     "output_type": "error",
     "traceback": [
      "\u001b[0;31m---------------------------------------------------------------------------\u001b[0m",
      "\u001b[0;31mValueError\u001b[0m                                Traceback (most recent call last)",
      "\u001b[0;32m<ipython-input-56-9b451457df2d>\u001b[0m in \u001b[0;36m<module>\u001b[0;34m\u001b[0m\n\u001b[0;32m----> 1\u001b[0;31m \u001b[0;34m[\u001b[0m\u001b[0;36m1\u001b[0m\u001b[0;34m,\u001b[0m\u001b[0;36m0\u001b[0m\u001b[0;34m,\u001b[0m\u001b[0;36m2\u001b[0m\u001b[0;34m]\u001b[0m\u001b[0;34m.\u001b[0m\u001b[0mindex\u001b[0m\u001b[0;34m(\u001b[0m\u001b[0;36m3\u001b[0m\u001b[0;34m)\u001b[0m\u001b[0;34m\u001b[0m\u001b[0;34m\u001b[0m\u001b[0m\n\u001b[0m",
      "\u001b[0;31mValueError\u001b[0m: 3 is not in list"
     ]
    }
   ],
   "source": [
    "[1,0,2].index(3)"
   ]
  },
  {
   "cell_type": "code",
   "execution_count": 57,
   "metadata": {},
   "outputs": [],
   "source": [
    "example = [-1,0,1,2,-1,-4]"
   ]
  },
  {
   "cell_type": "code",
   "execution_count": 61,
   "metadata": {},
   "outputs": [
    {
     "data": {
      "text/plain": [
       "0"
      ]
     },
     "execution_count": 61,
     "metadata": {},
     "output_type": "execute_result"
    }
   ],
   "source": [
    "example.index(-1)"
   ]
  },
  {
   "cell_type": "code",
   "execution_count": 59,
   "metadata": {},
   "outputs": [
    {
     "data": {
      "text/plain": [
       "[0, 1, 2, -1, -4]"
      ]
     },
     "execution_count": 59,
     "metadata": {},
     "output_type": "execute_result"
    }
   ],
   "source": [
    "example[1:]"
   ]
  },
  {
   "cell_type": "code",
   "execution_count": 77,
   "metadata": {},
   "outputs": [],
   "source": [
    "answers = []"
   ]
  },
  {
   "cell_type": "code",
   "execution_count": 79,
   "metadata": {},
   "outputs": [],
   "source": [
    "answers.append(set([1,2,3]))"
   ]
  },
  {
   "cell_type": "code",
   "execution_count": 80,
   "metadata": {},
   "outputs": [
    {
     "data": {
      "text/plain": [
       "[{1, 2, 3}]"
      ]
     },
     "execution_count": 80,
     "metadata": {},
     "output_type": "execute_result"
    }
   ],
   "source": [
    "answers\n"
   ]
  },
  {
   "cell_type": "code",
   "execution_count": 83,
   "metadata": {},
   "outputs": [
    {
     "data": {
      "text/plain": [
       "True"
      ]
     },
     "execution_count": 83,
     "metadata": {},
     "output_type": "execute_result"
    }
   ],
   "source": [
    "set([2,1,3]) in answers"
   ]
  },
  {
   "cell_type": "code",
   "execution_count": 86,
   "metadata": {},
   "outputs": [
    {
     "data": {
      "text/plain": [
       "False"
      ]
     },
     "execution_count": 86,
     "metadata": {},
     "output_type": "execute_result"
    }
   ],
   "source": [
    "[1,2,3] in answers"
   ]
  },
  {
   "cell_type": "code",
   "execution_count": 98,
   "metadata": {},
   "outputs": [
    {
     "data": {
      "text/plain": [
       "[1, 2]"
      ]
     },
     "execution_count": 98,
     "metadata": {},
     "output_type": "execute_result"
    }
   ],
   "source": [
    " list1 = [1,2,2]\n",
    "list2 = [1,2,3]\n",
    "list(set(list1).intersection(list2))"
   ]
  },
  {
   "cell_type": "code",
   "execution_count": 99,
   "metadata": {},
   "outputs": [
    {
     "data": {
      "text/plain": [
       "{1, 2}"
      ]
     },
     "execution_count": 99,
     "metadata": {},
     "output_type": "execute_result"
    }
   ],
   "source": [
    "set(list1).intersection(list2)"
   ]
  },
  {
   "cell_type": "code",
   "execution_count": 101,
   "metadata": {},
   "outputs": [
    {
     "data": {
      "text/plain": [
       "2"
      ]
     },
     "execution_count": 101,
     "metadata": {},
     "output_type": "execute_result"
    }
   ],
   "source": [
    "len(set([1,2,2]))"
   ]
  },
  {
   "cell_type": "code",
   "execution_count": 146,
   "metadata": {},
   "outputs": [],
   "source": [
    "hash_map = [0]*26"
   ]
  },
  {
   "cell_type": "code",
   "execution_count": 148,
   "metadata": {},
   "outputs": [
    {
     "data": {
      "text/plain": [
       "[0, 0, 0, 0, 0, 0, 0, 0, 0, 0, 0, 0, 0, 0, 0, 0, 0, 0, 0, 0, 0, 0, 0, 0, 0, 0]"
      ]
     },
     "execution_count": 148,
     "metadata": {},
     "output_type": "execute_result"
    }
   ],
   "source": [
    "hash_map"
   ]
  },
  {
   "cell_type": "code",
   "execution_count": 144,
   "metadata": {},
   "outputs": [
    {
     "data": {
      "text/plain": [
       "2"
      ]
     },
     "execution_count": 144,
     "metadata": {},
     "output_type": "execute_result"
    }
   ],
   "source": [
    "ord(\"c\") - ord(\"a\")"
   ]
  },
  {
   "cell_type": "code",
   "execution_count": 149,
   "metadata": {},
   "outputs": [],
   "source": [
    "#Input: [\"eat\", \"tea\", \"tan\", \"ate\", \"nat\", \"bat\"],\n",
    "#Output:\n",
    "#[\n",
    "  #[\"ate\",\"eat\",\"tea\"],\n",
    "  #[\"nat\",\"tan\"],\n",
    "  #[\"bat\"]\n",
    "#]"
   ]
  },
  {
   "cell_type": "code",
   "execution_count": 176,
   "metadata": {},
   "outputs": [],
   "source": [
    "e_input = [\"eat\", \"tea\", \"tan\", \"ate\", \"nat\", \"bat\"]\n",
    "#e_input = [\"eat\"]\n",
    "total_hash=[]\n",
    "answers = []\n",
    "for i in range(len(e_input)):\n",
    "    word_hash = [0]*26\n",
    "    for j in range(len(e_input[i])):\n",
    "        location = ord(e_input[i][j]) - ord(\"a\")\n",
    "        word_hash[location] += 1\n",
    "    if len(total_hash) == 0:\n",
    "        total_hash.append(word_hash)\n",
    "        answers.append([e_input[i]])\n",
    "    else:\n",
    "        k = 0\n",
    "        not_same = True\n",
    "        while(k < len(total_hash) and not_same):\n",
    "            if(total_hash[k] == word_hash):\n",
    "                answers[k].append(e_input[i])\n",
    "                not_same = False\n",
    "            k = k+1\n",
    "        if(not_same == True):\n",
    "            answers.append([e_input[i]])\n",
    "            total_hash.append(word_hash)\n",
    "\n",
    "            "
   ]
  },
  {
   "cell_type": "code",
   "execution_count": 177,
   "metadata": {},
   "outputs": [
    {
     "data": {
      "text/plain": [
       "[['eat', 'tea', 'ate'], ['tan', 'nat'], ['bat']]"
      ]
     },
     "execution_count": 177,
     "metadata": {},
     "output_type": "execute_result"
    }
   ],
   "source": [
    "answers"
   ]
  },
  {
   "cell_type": "code",
   "execution_count": 171,
   "metadata": {},
   "outputs": [],
   "source": [
    "answers = []\n",
    "answers.append([\"eat\"])"
   ]
  },
  {
   "cell_type": "code",
   "execution_count": 173,
   "metadata": {},
   "outputs": [],
   "source": [
    "answers[0].append(\"tea\")"
   ]
  },
  {
   "cell_type": "code",
   "execution_count": 174,
   "metadata": {},
   "outputs": [
    {
     "data": {
      "text/plain": [
       "[['eat', 'tea']]"
      ]
     },
     "execution_count": 174,
     "metadata": {},
     "output_type": "execute_result"
    }
   ],
   "source": [
    "answers"
   ]
  },
  {
   "cell_type": "code",
   "execution_count": 178,
   "metadata": {},
   "outputs": [
    {
     "ename": "AttributeError",
     "evalue": "'list' object has no attribute 'defaultdict'",
     "output_type": "error",
     "traceback": [
      "\u001b[0;31m---------------------------------------------------------------------------\u001b[0m",
      "\u001b[0;31mAttributeError\u001b[0m                            Traceback (most recent call last)",
      "\u001b[0;32m<ipython-input-178-252a6a3d0835>\u001b[0m in \u001b[0;36m<module>\u001b[0;34m\u001b[0m\n\u001b[0;32m----> 1\u001b[0;31m \u001b[0manswers\u001b[0m\u001b[0;34m.\u001b[0m\u001b[0mdefaultdict\u001b[0m\u001b[0;34m(\u001b[0m\u001b[0mlist\u001b[0m\u001b[0;34m)\u001b[0m\u001b[0;34m\u001b[0m\u001b[0;34m\u001b[0m\u001b[0m\n\u001b[0m",
      "\u001b[0;31mAttributeError\u001b[0m: 'list' object has no attribute 'defaultdict'"
     ]
    }
   ],
   "source": [
    "answers.defaultdict(list)"
   ]
  },
  {
   "cell_type": "code",
   "execution_count": 179,
   "metadata": {},
   "outputs": [],
   "source": [
    "from collections import defaultdict"
   ]
  },
  {
   "cell_type": "code",
   "execution_count": 183,
   "metadata": {},
   "outputs": [
    {
     "ename": "NameError",
     "evalue": "name 'collections' is not defined",
     "output_type": "error",
     "traceback": [
      "\u001b[0;31m---------------------------------------------------------------------------\u001b[0m",
      "\u001b[0;31mNameError\u001b[0m                                 Traceback (most recent call last)",
      "\u001b[0;32m<ipython-input-183-db53972cdd4a>\u001b[0m in \u001b[0;36m<module>\u001b[0;34m\u001b[0m\n\u001b[0;32m----> 1\u001b[0;31m \u001b[0mcollections\u001b[0m\u001b[0;34m.\u001b[0m\u001b[0mdefaultdict\u001b[0m\u001b[0;34m(\u001b[0m\u001b[0mlist\u001b[0m\u001b[0;34m)\u001b[0m\u001b[0;34m\u001b[0m\u001b[0;34m\u001b[0m\u001b[0m\n\u001b[0m",
      "\u001b[0;31mNameError\u001b[0m: name 'collections' is not defined"
     ]
    }
   ],
   "source": [
    "collections.defaultdict(list)"
   ]
  },
  {
   "cell_type": "code",
   "execution_count": 228,
   "metadata": {},
   "outputs": [],
   "source": [
    "#\n",
    "#Input: \"abcabcbb\"\n",
    "#Output: 3 \n",
    "#Explanation: The answer is \"abc\", with the length of 3. \n",
    "test_dict = {}\n",
    "#test_string = \"abcabcbb\"\n",
    "test_string = \"pwwkew\"\n",
    "longest_substring = None\n",
    "list_of_substrings = []\n",
    "for i in range(len(test_string)):\n",
    "    #sub_string = ''\n",
    "    for j in range(len(test_string)):\n",
    "        #sub_string = ''\n",
    "        if(i+j <= len(test_string)):\n",
    "            hash_map = [0]*26\n",
    "            sub_string = test_string[i:i+j]\n",
    "            if sub_string not in list_of_substrings:\n",
    "                list_of_substrings.append(sub_string)\n",
    "                is_sub_string = True\n",
    "                k = 0\n",
    "                while(is_sub_string and k < len(sub_string) and sub_string != ''):\n",
    "                    location = ord(sub_string[k]) - ord('a')\n",
    "                    hash_map[location] += 1\n",
    "                    if(hash_map[location] > 1):\n",
    "                        is_sub_string = False\n",
    "                    k = k+1\n",
    "                if(is_sub_string):\n",
    "                    if(longest_substring == None):\n",
    "                        longest_substring = sub_string\n",
    "                    elif(len(sub_string) > len(longest_substring)):\n",
    "                        longest_substring = sub_string\n",
    "\n",
    "            \n",
    "            \n",
    "    #print(test_string[i])\n",
    "    #if(i+1 < len(test_string)):\n",
    "        #print(test_string[i],test_string[i+1])\n",
    "    #if(i+2 < len(test_string)):\n",
    "        #print(test_string[i],test_string[i+1],test_string[i+2])\n",
    "    #i"
   ]
  },
  {
   "cell_type": "code",
   "execution_count": 229,
   "metadata": {},
   "outputs": [
    {
     "data": {
      "text/plain": [
       "'wke'"
      ]
     },
     "execution_count": 229,
     "metadata": {},
     "output_type": "execute_result"
    }
   ],
   "source": [
    "longest_substring "
   ]
  },
  {
   "cell_type": "code",
   "execution_count": 200,
   "metadata": {},
   "outputs": [
    {
     "data": {
      "text/plain": [
       "'abcabc'"
      ]
     },
     "execution_count": 200,
     "metadata": {},
     "output_type": "execute_result"
    }
   ],
   "source": [
    "test_string[0:6]"
   ]
  },
  {
   "cell_type": "code",
   "execution_count": 202,
   "metadata": {},
   "outputs": [],
   "source": [
    "test_dict = {}"
   ]
  },
  {
   "cell_type": "code",
   "execution_count": 203,
   "metadata": {},
   "outputs": [],
   "source": [
    "test_dict[1] = 1"
   ]
  },
  {
   "cell_type": "code",
   "execution_count": 204,
   "metadata": {},
   "outputs": [
    {
     "data": {
      "text/plain": [
       "{1: 1}"
      ]
     },
     "execution_count": 204,
     "metadata": {},
     "output_type": "execute_result"
    }
   ],
   "source": [
    "test_dict"
   ]
  },
  {
   "cell_type": "code",
   "execution_count": 205,
   "metadata": {},
   "outputs": [],
   "source": [
    "test_dict[1] += 1"
   ]
  },
  {
   "cell_type": "code",
   "execution_count": 206,
   "metadata": {},
   "outputs": [
    {
     "data": {
      "text/plain": [
       "{1: 2}"
      ]
     },
     "execution_count": 206,
     "metadata": {},
     "output_type": "execute_result"
    }
   ],
   "source": [
    "test_dict"
   ]
  },
  {
   "cell_type": "code",
   "execution_count": 211,
   "metadata": {},
   "outputs": [
    {
     "data": {
      "text/plain": [
       "False"
      ]
     },
     "execution_count": 211,
     "metadata": {},
     "output_type": "execute_result"
    }
   ],
   "source": [
    "(2,3) in [1,2,3,4]"
   ]
  },
  {
   "cell_type": "code",
   "execution_count": 213,
   "metadata": {},
   "outputs": [
    {
     "ename": "TypeError",
     "evalue": "ord() expected a character, but string of length 0 found",
     "output_type": "error",
     "traceback": [
      "\u001b[0;31m---------------------------------------------------------------------------\u001b[0m",
      "\u001b[0;31mTypeError\u001b[0m                                 Traceback (most recent call last)",
      "\u001b[0;32m<ipython-input-213-41cd8f59f52d>\u001b[0m in \u001b[0;36m<module>\u001b[0;34m\u001b[0m\n\u001b[0;32m----> 1\u001b[0;31m \u001b[0mord\u001b[0m\u001b[0;34m(\u001b[0m\u001b[0;34m''\u001b[0m\u001b[0;34m)\u001b[0m \u001b[0;34m-\u001b[0m \u001b[0mord\u001b[0m\u001b[0;34m(\u001b[0m\u001b[0;34m'a'\u001b[0m\u001b[0;34m)\u001b[0m\u001b[0;34m\u001b[0m\u001b[0;34m\u001b[0m\u001b[0m\n\u001b[0m",
      "\u001b[0;31mTypeError\u001b[0m: ord() expected a character, but string of length 0 found"
     ]
    }
   ],
   "source": [
    "ord('') - ord('a')"
   ]
  },
  {
   "cell_type": "code",
   "execution_count": 214,
   "metadata": {},
   "outputs": [],
   "source": [
    "a = ''"
   ]
  },
  {
   "cell_type": "code",
   "execution_count": 215,
   "metadata": {},
   "outputs": [],
   "source": [
    "a = None"
   ]
  },
  {
   "cell_type": "code",
   "execution_count": 216,
   "metadata": {},
   "outputs": [],
   "source": [
    "a = ''"
   ]
  },
  {
   "cell_type": "code",
   "execution_count": 217,
   "metadata": {},
   "outputs": [
    {
     "data": {
      "text/plain": [
       "False"
      ]
     },
     "execution_count": 217,
     "metadata": {},
     "output_type": "execute_result"
    }
   ],
   "source": [
    "a == None"
   ]
  },
  {
   "cell_type": "code",
   "execution_count": 218,
   "metadata": {},
   "outputs": [
    {
     "data": {
      "text/plain": [
       "True"
      ]
     },
     "execution_count": 218,
     "metadata": {},
     "output_type": "execute_result"
    }
   ],
   "source": [
    "a == ''"
   ]
  },
  {
   "cell_type": "code",
   "execution_count": 222,
   "metadata": {},
   "outputs": [],
   "source": [
    "d = {'a': 1, 'b': 2}"
   ]
  },
  {
   "cell_type": "code",
   "execution_count": 223,
   "metadata": {},
   "outputs": [
    {
     "data": {
      "text/plain": [
       "True"
      ]
     },
     "execution_count": 223,
     "metadata": {},
     "output_type": "execute_result"
    }
   ],
   "source": [
    "'a' in d"
   ]
  },
  {
   "cell_type": "code",
   "execution_count": 269,
   "metadata": {},
   "outputs": [
    {
     "name": "stdout",
     "output_type": "stream",
     "text": [
      "[0, 0, 1, 3, 50, 75, 99]\n",
      "First one\n",
      "croci\n"
     ]
    }
   ],
   "source": [
    "#Missing range problem\n",
    "\n",
    "#what upper is 74 and our ranges only go to 75(then we don't need to check)\n",
    "lower = 0\n",
    "upper = 99\n",
    "ranges = [0,1,3,50,75]\n",
    "ranges.append(99)\n",
    "ranges.insert(0,0)\n",
    "print(ranges)\n",
    "missing_ranges = []\n",
    "\n",
    "\n",
    "\n",
    "\n",
    "#[\"0->1\"]\n",
    "#[\"0\"]\n",
    "\n",
    "for i in range(len(ranges)-1):\n",
    "    difference = ranges[i+1] - ranges[i]\n",
    "    #first case\n",
    "    #while(ranges[i] < upper)\n",
    "    if(i == 0):\n",
    "        print(\"First one\")\n",
    "        if(difference == 1):\n",
    "            missing_ranges.append(\"0\")\n",
    "        if(difference == 2):\n",
    "            misssing_ranges.append(\"0 ->\" + str(ranges[i+1] - 1))\n",
    "            \n",
    "    \n",
    "    elif(i+1 == len(ranges)-1):\n",
    "        print(\"croci\")\n",
    "        if(difference == 1):\n",
    "            missing_ranges.append(\"99\")\n",
    "        \n",
    "        if(difference > 2):\n",
    "            missing_ranges.append(str(ranges[i] + 1)+\"-> 99\")\n",
    "        \n",
    "\n",
    "        #print(ranges[i],ranges[i+1])\n",
    "        \n",
    "    else:\n",
    "        if(difference) != 0 and difference != 1:\n",
    "            #difference = ranges[i+1] - ranges[i]\n",
    "\n",
    "            if(difference == 2):\n",
    "                only_number = ranges[i+1]-1\n",
    "                only_number = str(only_number)\n",
    "                missing_ranges.append(only_number)\n",
    "            elif(difference > 1):\n",
    "                first_number = ranges[i] + 1\n",
    "                first_number = str(first_number)\n",
    "                second_number = ranges[i+1] - 1\n",
    "                second_number = str(second_number)\n",
    "                final_string = first_number + '->' + second_number\n",
    "                missing_ranges.append(final_string)\n",
    "        "
   ]
  },
  {
   "cell_type": "code",
   "execution_count": 270,
   "metadata": {},
   "outputs": [
    {
     "data": {
      "text/plain": [
       "['2', '4->49', '51->74', '76-> 99']"
      ]
     },
     "execution_count": 270,
     "metadata": {},
     "output_type": "execute_result"
    }
   ],
   "source": [
    "ranges = [0,1,3,50,75]\n",
    "u\n",
    "for i in range(len(ranges)):\n",
    "    "
   ]
  },
  {
   "cell_type": "code",
   "execution_count": 248,
   "metadata": {},
   "outputs": [
    {
     "data": {
      "text/plain": [
       "True"
      ]
     },
     "execution_count": 248,
     "metadata": {},
     "output_type": "execute_result"
    }
   ],
   "source": [
    "ranges\n",
    "(ranges[0] - ranges[1]) == 0"
   ]
  },
  {
   "cell_type": "code",
   "execution_count": 254,
   "metadata": {},
   "outputs": [
    {
     "data": {
      "text/plain": [
       "'cat'"
      ]
     },
     "execution_count": 254,
     "metadata": {},
     "output_type": "execute_result"
    }
   ],
   "source": [
    "'' + 'cat'"
   ]
  },
  {
   "cell_type": "code",
   "execution_count": 286,
   "metadata": {},
   "outputs": [],
   "source": [
    "matrix = [\n",
    "  [1,1,1],\n",
    "  [1,0,0],\n",
    "  [1,1,1]\n",
    "]"
   ]
  },
  {
   "cell_type": "code",
   "execution_count": 289,
   "metadata": {},
   "outputs": [],
   "source": [
    "row_true = [False]*len(matrix)\n",
    "column_true = [False]*len(matrix[0])\n",
    "\n",
    "for i in range(len(matrix)):\n",
    "    for j in range(len(matrix[i])):\n",
    "        if(matrix[i][j] == 0):\n",
    "            row_true[i] = True\n",
    "            column_true[j] = True\n",
    "\n",
    "#for i in range(len(matrix[0])):\n",
    "    #for j in range(len(matrix)):\n",
    "        #if(matrix[j][i]==0):\n",
    "            #column_true[i] = True;\n",
    "            #break;\n",
    "\n",
    "for i in range(len(matrix)):\n",
    "    for j in range(len(matrix[i])):\n",
    "        if(row_true[i] == True or column_true[j] == True):\n",
    "            matrix[i][j] = 0\n",
    "#This takes O(H+W) space"
   ]
  },
  {
   "cell_type": "code",
   "execution_count": 288,
   "metadata": {},
   "outputs": [
    {
     "name": "stdout",
     "output_type": "stream",
     "text": [
      "[False, True, False]\n",
      "[False, True, True]\n"
     ]
    }
   ],
   "source": [
    "print(row_true)\n",
    "print(column_true)"
   ]
  },
  {
   "cell_type": "code",
   "execution_count": 290,
   "metadata": {},
   "outputs": [
    {
     "data": {
      "text/plain": [
       "[[1, 0, 0], [0, 0, 0], [1, 0, 0]]"
      ]
     },
     "execution_count": 290,
     "metadata": {},
     "output_type": "execute_result"
    }
   ],
   "source": [
    "matrix"
   ]
  },
  {
   "cell_type": "code",
   "execution_count": 299,
   "metadata": {},
   "outputs": [],
   "source": [
    "matrix = [\n",
    "  [1,1,1],\n",
    "  [1,0,0],\n",
    "  [1,1,1]\n",
    "]"
   ]
  },
  {
   "cell_type": "code",
   "execution_count": 308,
   "metadata": {},
   "outputs": [],
   "source": [
    "#row_true = [False]*len(matrix)\n",
    "column_true = [False]*len(matrix[0])\n",
    "\n",
    "for i in range(len(matrix[i])):\n",
    "    for j in range(len(matrix)):\n",
    "        if(matrix[j][i] == 0):\n",
    "            #row_true[i] = True\n",
    "            column_true[i] = True\n",
    "            break;\n",
    "\n",
    "for i in range(len(matrix)):\n",
    "    contains_zero = False\n",
    "    for j in range(len(matrix[i])):\n",
    "        if(matrix[i][j] == 0):\n",
    "            contains_zero = True\n",
    "            #break;\n",
    "            \n",
    "    for j in range(len(matrix[i])):\n",
    "        if(contains_zero or column_true[j]==True):\n",
    "            matrix[i][j] = 0\n",
    "    \n",
    "\n",
    "#for i in range(len(matrix)):\n",
    "    #for j in range(len(matrix[i])):\n",
    "        #if(row_true[i] == True or column_true[j] == True):\n",
    "            #matrix[i][j] = 0\n",
    "#This takes O(H) space"
   ]
  },
  {
   "cell_type": "code",
   "execution_count": 309,
   "metadata": {},
   "outputs": [
    {
     "data": {
      "text/plain": [
       "[[1, 0, 0], [0, 0, 0], [1, 0, 0]]"
      ]
     },
     "execution_count": 309,
     "metadata": {},
     "output_type": "execute_result"
    }
   ],
   "source": [
    "matrix\n",
    "#column_true"
   ]
  },
  {
   "cell_type": "raw",
   "metadata": {},
   "source": [
    "column_true"
   ]
  },
  {
   "cell_type": "code",
   "execution_count": 294,
   "metadata": {},
   "outputs": [
    {
     "data": {
      "text/plain": [
       "1"
      ]
     },
     "execution_count": 294,
     "metadata": {},
     "output_type": "execute_result"
    }
   ],
   "source": [
    "matrix[0][1]"
   ]
  },
  {
   "cell_type": "code",
   "execution_count": 312,
   "metadata": {},
   "outputs": [],
   "source": [
    "#matrix[1][1]\n",
    "\n",
    "matrix = [\n",
    "  [1,1,1],\n",
    "  [1,0,0],\n",
    "  [1,1,1]\n",
    "]"
   ]
  },
  {
   "cell_type": "code",
   "execution_count": 313,
   "metadata": {},
   "outputs": [],
   "source": [
    "#Most efficient solution\n",
    "is_col = False\n",
    "R = len(matrix)\n",
    "C = len(matrix[0])\n",
    "for i in range(R):\n",
    "    if matrix[i][0] == 0:\n",
    "        is_col = True\n",
    "    \n",
    "    for j in range(1, C):\n",
    "        if matrix[i][j]  == 0:\n",
    "            matrix[0][j] = 0\n",
    "            matrix[i][0] = 0\n",
    "    \n",
    "for i in range(1, R):\n",
    "    for j in range(1, C):\n",
    "        if not matrix[i][0] or not matrix[0][j]:\n",
    "            matrix[i][j] = 0\n",
    "                \n",
    "if matrix[0][0] == 0:\n",
    "    for j in range(C):\n",
    "        matrix[0][j] = 0\n",
    "\n",
    "if is_col:\n",
    "    for i in range(R):\n",
    "        matrix[i][0] = 0\n",
    "    \n",
    "        \n",
    "        "
   ]
  },
  {
   "cell_type": "code",
   "execution_count": 314,
   "metadata": {},
   "outputs": [
    {
     "data": {
      "text/plain": [
       "[[1, 0, 0], [0, 0, 0], [1, 0, 0]]"
      ]
     },
     "execution_count": 314,
     "metadata": {},
     "output_type": "execute_result"
    }
   ],
   "source": [
    "matrix"
   ]
  },
  {
   "cell_type": "code",
   "execution_count": 315,
   "metadata": {},
   "outputs": [
    {
     "name": "stdout",
     "output_type": "stream",
     "text": [
      "1\n",
      "0\n",
      "1\n"
     ]
    }
   ],
   "source": [
    "for i in range(R):\n",
    "    print(matrix[i][0])"
   ]
  },
  {
   "cell_type": "code",
   "execution_count": 316,
   "metadata": {},
   "outputs": [
    {
     "data": {
      "text/plain": [
       "1"
      ]
     },
     "execution_count": 316,
     "metadata": {},
     "output_type": "execute_result"
    }
   ],
   "source": [
    "matrix[0][0]"
   ]
  },
  {
   "cell_type": "code",
   "execution_count": 317,
   "metadata": {},
   "outputs": [
    {
     "data": {
      "text/plain": [
       "0"
      ]
     },
     "execution_count": 317,
     "metadata": {},
     "output_type": "execute_result"
    }
   ],
   "source": [
    "matrix[1][0]"
   ]
  },
  {
   "cell_type": "code",
   "execution_count": 318,
   "metadata": {},
   "outputs": [
    {
     "data": {
      "text/plain": [
       "[0, 0, 0]"
      ]
     },
     "execution_count": 318,
     "metadata": {},
     "output_type": "execute_result"
    }
   ],
   "source": [
    "matrix[1]"
   ]
  },
  {
   "cell_type": "code",
   "execution_count": null,
   "metadata": {},
   "outputs": [],
   "source": []
  }
 ],
 "metadata": {
  "kernelspec": {
   "display_name": "Python 3",
   "language": "python",
   "name": "python3"
  },
  "language_info": {
   "codemirror_mode": {
    "name": "ipython",
    "version": 3
   },
   "file_extension": ".py",
   "mimetype": "text/x-python",
   "name": "python",
   "nbconvert_exporter": "python",
   "pygments_lexer": "ipython3",
   "version": "3.7.3"
  }
 },
 "nbformat": 4,
 "nbformat_minor": 2
}
