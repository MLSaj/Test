{
 "cells": [
  {
   "cell_type": "code",
   "execution_count": 99,
   "metadata": {},
   "outputs": [],
   "source": [
    "class TreeNode:\n",
    "    def __init__(self, x):\n",
    "     self.val = x\n",
    "     self.left = None\n",
    "     self.right = None\n",
    "        \n",
    "    def insert(self,val):\n",
    "        root = self\n",
    "        root_val = self.val\n",
    "        insert = False\n",
    "        while(not insert):\n",
    "            if(root_val < val):\n",
    "                if(root.right):\n",
    "                    root = root.right\n",
    "                    root_val = root.val\n",
    "                else:\n",
    "                    root.right = TreeNode(val)\n",
    "                    insert = True\n",
    "            else:\n",
    "                if(root.left):\n",
    "                    root = root.left\n",
    "                    root_val = root.val\n",
    "                else:\n",
    "                    root.left = TreeNode(val)\n",
    "                    insert = True\n",
    "                    \n",
    "    def inOrderTraversal\n",
    "      \n",
    "    \n",
    "def print_order(root,res = []):\n",
    "    if root != None:\n",
    "        if(root.left):\n",
    "            print_order(root.left,res)\n",
    "        res.append(root.val)\n",
    "        if(root.right):\n",
    "            print_order(root.right,res)\n",
    "    return res\n",
    "        \n",
    "        \n",
    "\n",
    " "
   ]
  },
  {
   "cell_type": "code",
   "execution_count": 118,
   "metadata": {},
   "outputs": [],
   "source": [
    "def kthSmallest(root, k):\n",
    "        \"\"\"\n",
    "        :type root: TreeNode\n",
    "        :type k: int\n",
    "        :rtype: int\n",
    "        \"\"\"\n",
    "        stack = []\n",
    "        \n",
    "        while True:\n",
    "            while root:\n",
    "                print(root.val)\n",
    "                stack.append(root)\n",
    "                root = root.left\n",
    "            root = stack.pop()\n",
    "            k -= 1\n",
    "            if not k:\n",
    "                return root.val\n",
    "            root = root.right"
   ]
  },
  {
   "cell_type": "code",
   "execution_count": 120,
   "metadata": {},
   "outputs": [],
   "source": [
    "head = TreeNode(3)"
   ]
  },
  {
   "cell_type": "code",
   "execution_count": 121,
   "metadata": {},
   "outputs": [],
   "source": [
    "head.insert(4)\n",
    "head.insert(1)\n",
    "#head.insert(2)"
   ]
  },
  {
   "cell_type": "code",
   "execution_count": 122,
   "metadata": {},
   "outputs": [
    {
     "name": "stdout",
     "output_type": "stream",
     "text": [
      "3\n",
      "1\n"
     ]
    },
    {
     "data": {
      "text/plain": [
       "3"
      ]
     },
     "execution_count": 122,
     "metadata": {},
     "output_type": "execute_result"
    }
   ],
   "source": [
    "kthSmallest(head,2)"
   ]
  },
  {
   "cell_type": "raw",
   "metadata": {},
   "source": [
    "1 "
   ]
  },
  {
   "cell_type": "code",
   "execution_count": 110,
   "metadata": {},
   "outputs": [],
   "source": [
    "a = [1,2,3]"
   ]
  },
  {
   "cell_type": "code",
   "execution_count": 111,
   "metadata": {},
   "outputs": [
    {
     "data": {
      "text/plain": [
       "3"
      ]
     },
     "execution_count": 111,
     "metadata": {},
     "output_type": "execute_result"
    }
   ],
   "source": [
    "a.pop()"
   ]
  },
  {
   "cell_type": "code",
   "execution_count": 30,
   "metadata": {},
   "outputs": [],
   "source": [
    "\n",
    "\n",
    "def zig_zag(root,zigzag = 0, final_array = [],start = 1):\n",
    "    if start == 0:\n",
    "        final_array.append([root.val])\n",
    "    if(zigzag == 0):\n",
    "        #append left then right child\n",
    "        if root:\n",
    "            array = []\n",
    "            if(root.left):\n",
    "                array.append(root.left.val)\n",
    "            if(root.right):\n",
    "                array.append(root.right.val)\n",
    "            final_array.append(array)\n",
    "            if root.left:\n",
    "                zig_zag(root.left,1,final_array)\n",
    "            if(root.right):\n",
    "                zig_zag(root.right,1,final_array)\n",
    "\n",
    "    if(zigzag == 1):\n",
    "        #append left then right child\n",
    "        if root:\n",
    "            array = []\n",
    "            if(root.right):\n",
    "                array.append(root.right.val)\n",
    "            if(root.left):\n",
    "                array.append(root.left.val)\n",
    "            final_array.append(array)\n",
    "            if root.right:\n",
    "                zig_zag(root.right,0,final_array)\n",
    "            if(root.left):\n",
    "                zig_zag(root.left,0,final_array)\n",
    "\n",
    "    return final_array\n",
    "\n",
    "def zig_zag_caller(root):\n",
    "    final_array = []\n",
    "    zigzag = 0\n",
    "    start = 0\n",
    "    zig_zag(root,0,final_array,start)\n",
    "    return final_array\n",
    "\n",
    "\n"
   ]
  },
  {
   "cell_type": "code",
   "execution_count": 31,
   "metadata": {},
   "outputs": [
    {
     "data": {
      "text/plain": [
       "[[3], [9, 20], [], [7, 15], [], []]"
      ]
     },
     "execution_count": 31,
     "metadata": {},
     "output_type": "execute_result"
    }
   ],
   "source": [
    "zig_zag_caller(head)"
   ]
  },
  {
   "cell_type": "code",
   "execution_count": 125,
   "metadata": {},
   "outputs": [
    {
     "name": "stdout",
     "output_type": "stream",
     "text": [
      "3\n",
      "4\n",
      "5\n"
     ]
    }
   ],
   "source": [
    "for i in range(3,6):\n",
    "    print(i)"
   ]
  },
  {
   "cell_type": "code",
   "execution_count": null,
   "metadata": {},
   "outputs": [],
   "source": [
    "from heapq import heappush, heappop"
   ]
  }
 ],
 "metadata": {
  "kernelspec": {
   "display_name": "Python 3",
   "language": "python",
   "name": "python3"
  },
  "language_info": {
   "codemirror_mode": {
    "name": "ipython",
    "version": 3
   },
   "file_extension": ".py",
   "mimetype": "text/x-python",
   "name": "python",
   "nbconvert_exporter": "python",
   "pygments_lexer": "ipython3",
   "version": "3.7.3"
  }
 },
 "nbformat": 4,
 "nbformat_minor": 2
}
