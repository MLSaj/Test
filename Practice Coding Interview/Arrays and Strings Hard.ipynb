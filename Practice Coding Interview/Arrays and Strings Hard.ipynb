{
 "cells": [
  {
   "cell_type": "code",
   "execution_count": 4,
   "metadata": {},
   "outputs": [],
   "source": [
    "\n",
    "dict_1={'a':2, 'b':3, 'c':5}\n",
    "dict_2={'a':2, 'b':2, 'd':3, 'e':5 }\n",
    "dot_product = sum(dict_1[key]*dict_2.get(key, 0) for key in dict_1)"
   ]
  },
  {
   "cell_type": "code",
   "execution_count": 5,
   "metadata": {},
   "outputs": [
    {
     "data": {
      "text/plain": [
       "10"
      ]
     },
     "execution_count": 5,
     "metadata": {},
     "output_type": "execute_result"
    }
   ],
   "source": [
    "dot_product"
   ]
  },
  {
   "cell_type": "code",
   "execution_count": 6,
   "metadata": {},
   "outputs": [],
   "source": [
    "nums = [1,3,-1,-3,5,3,6,7],\n",
    "\n",
    "\n",
    "[9     ,  -1 ,   3 ,  -3,   5 ,  3 ,  6 ,   7   ]\n",
    "amax           amax                "
   ]
  },
  {
   "cell_type": "code",
   "execution_count": 23,
   "metadata": {},
   "outputs": [
    {
     "name": "stdout",
     "output_type": "stream",
     "text": [
      "deque(['Mon', 'Tue', 'Wed'])\n"
     ]
    }
   ],
   "source": [
    "import collections\n",
    "# Create a deque\n",
    "DoubleEnded = collections.deque([\"Mon\",\"Tue\",\"Wed\"])\n",
    "print (DoubleEnded)"
   ]
  },
  {
   "cell_type": "code",
   "execution_count": 24,
   "metadata": {},
   "outputs": [
    {
     "data": {
      "text/plain": [
       "'Sun'"
      ]
     },
     "execution_count": 24,
     "metadata": {},
     "output_type": "execute_result"
    }
   ],
   "source": [
    "DoubleEnded.append(\"Thu\")\n",
    "DoubleEnded.appendleft(\"Sun\")\n",
    "DoubleEnded.pop()\n",
    "DoubleEnded.popleft()"
   ]
  },
  {
   "cell_type": "code",
   "execution_count": 25,
   "metadata": {},
   "outputs": [
    {
     "data": {
      "text/plain": [
       "'Mon'"
      ]
     },
     "execution_count": 25,
     "metadata": {},
     "output_type": "execute_result"
    }
   ],
   "source": [
    "len(DoubleEnded)\n",
    "DoubleEnded[0]"
   ]
  },
  {
   "cell_type": "code",
   "execution_count": 18,
   "metadata": {},
   "outputs": [
    {
     "ename": "SyntaxError",
     "evalue": "invalid syntax (<ipython-input-18-43596e0bbafd>, line 11)",
     "output_type": "error",
     "traceback": [
      "\u001b[0;36m  File \u001b[0;32m\"<ipython-input-18-43596e0bbafd>\"\u001b[0;36m, line \u001b[0;32m11\u001b[0m\n\u001b[0;31m    if(len(DoubleEnded) == 3)):\u001b[0m\n\u001b[0m                             ^\u001b[0m\n\u001b[0;31mSyntaxError\u001b[0m\u001b[0;31m:\u001b[0m invalid syntax\n"
     ]
    }
   ],
   "source": [
    "DE = collections.deque([])\n",
    "amax = -999999\n",
    "secondmax = -99999\n",
    "final_array = []\n",
    "for i in range(len(nums)):\n",
    "    if(len(DE) == 0):\n",
    "        DE.append(nums[i])\n",
    "    if(nums[i] > DE[0]):\n",
    "        DE.clear()\n",
    "        DE.append(nums[i])\n",
    "    else:\n",
    "        DE.append(nums[i])\n",
    "    \n",
    "        \n",
    "                \n",
    "            \n",
    "        "
   ]
  },
  {
   "cell_type": "code",
   "execution_count": 19,
   "metadata": {},
   "outputs": [
    {
     "data": {
      "text/plain": [
       "3"
      ]
     },
     "execution_count": 19,
     "metadata": {},
     "output_type": "execute_result"
    }
   ],
   "source": [
    "max([1,2,3])"
   ]
  },
  {
   "cell_type": "code",
   "execution_count": 22,
   "metadata": {},
   "outputs": [
    {
     "data": {
      "text/plain": [
       "99"
      ]
     },
     "execution_count": 22,
     "metadata": {},
     "output_type": "execute_result"
    }
   ],
   "source": [
    "max([i for i in range(100)])"
   ]
  },
  {
   "cell_type": "code",
   "execution_count": 38,
   "metadata": {},
   "outputs": [],
   "source": [
    "Qi = collections.deque() \n",
    "arr = [1,3,-1,-3,5,3,6,7]\n",
    "# Process first k (or first window)  \n",
    "# elements of array \n",
    "k = 3\n",
    "n = len(arr)\n",
    "output = []\n",
    "for i in range(k): \n",
    "\n",
    "    # For every element, the previous  \n",
    "    # smaller elements are useless \n",
    "    # so remove them from Qi \n",
    "    while Qi and arr[i] >= arr[Qi[-1]] : \n",
    "        Qi.pop() \n",
    "\n",
    "    # Add new element at rear of queue \n",
    "    Qi.append(i)\n",
    "\n",
    "for i in range(k,n):\n",
    "    output.append(arr[Qi[0]])\n",
    "    \n",
    "    while Qi and Qi[0] <= i - k:\n",
    "        Qi.popleft()\n",
    "    \n",
    "    while Qi and arr[i] >= arr[Qi[-1]] : \n",
    "        Qi.pop() \n",
    "    \n",
    "    Qi.append(i)\n",
    "    \n",
    "    \n",
    "    \n",
    "    \n",
    "    "
   ]
  },
  {
   "cell_type": "code",
   "execution_count": 45,
   "metadata": {},
   "outputs": [],
   "source": [
    "nums = [2,3,4,5,1,2,3]"
   ]
  },
  {
   "cell_type": "code",
   "execution_count": 71,
   "metadata": {},
   "outputs": [
    {
     "name": "stdout",
     "output_type": "stream",
     "text": [
      "1\n"
     ]
    }
   ],
   "source": [
    "nums = [1,3,1,1,3,2,3,2,5]\n",
    "for i in range(len(nums)):\n",
    "    #print(nums[i])\n",
    "    number = abs(nums[i]) -1\n",
    "    if(nums[number] < 0):\n",
    "        print(abs(nums[i]))\n",
    "        break;\n",
    "    else:\n",
    "        nums[number] = -1 * nums[number]\n",
    "    #print(nums)"
   ]
  },
  {
   "cell_type": "code",
   "execution_count": 49,
   "metadata": {},
   "outputs": [
    {
     "data": {
      "text/plain": [
       "-4"
      ]
     },
     "execution_count": 49,
     "metadata": {},
     "output_type": "execute_result"
    }
   ],
   "source": [
    "-1*nums[nums[0]]"
   ]
  },
  {
   "cell_type": "code",
   "execution_count": 61,
   "metadata": {},
   "outputs": [
    {
     "data": {
      "text/plain": [
       "5"
      ]
     },
     "execution_count": 61,
     "metadata": {},
     "output_type": "execute_result"
    }
   ],
   "source": [
    "abs(-5)"
   ]
  },
  {
   "cell_type": "code",
   "execution_count": 60,
   "metadata": {},
   "outputs": [
    {
     "data": {
      "text/plain": [
       "5"
      ]
     },
     "execution_count": 60,
     "metadata": {},
     "output_type": "execute_result"
    }
   ],
   "source": [
    "abs(5)"
   ]
  },
  {
   "cell_type": "code",
   "execution_count": 72,
   "metadata": {},
   "outputs": [],
   "source": [
    "character = \"eceba\""
   ]
  },
  {
   "cell_type": "code",
   "execution_count": 73,
   "metadata": {},
   "outputs": [],
   "source": [
    "start = 0\n",
    "end = 0"
   ]
  },
  {
   "cell_type": "code",
   "execution_count": 81,
   "metadata": {},
   "outputs": [],
   "source": [
    "def at_most_k_distinct_substring(string,k):\n",
    "    start = 0 \n",
    "    end = 0\n",
    "    max_len = 0\n",
    "    adict = {}\n",
    "    while(end < len(string)):\n",
    "        current_length = 0\n",
    "        if(string[end] in adict):\n",
    "            adict[string[end]] += 1\n",
    "        else:\n",
    "            adict[string[end]] = 1\n",
    "        \n",
    "        \n",
    "        while(len(adict) > k):\n",
    "            adict[string[start]] -= 1\n",
    "            if(adict[string[start]] == 0):\n",
    "                del adict[string[start]]\n",
    "            start += 1\n",
    "        \n",
    "        max_len = max(current_length,end-start+1)\n",
    "        end += 1\n",
    "    return max_len\n",
    "                \n",
    "        \n",
    "        \n",
    "        \n",
    "        "
   ]
  },
  {
   "cell_type": "code",
   "execution_count": 82,
   "metadata": {},
   "outputs": [
    {
     "data": {
      "text/plain": [
       "2"
      ]
     },
     "execution_count": 82,
     "metadata": {},
     "output_type": "execute_result"
    }
   ],
   "source": [
    " at_most_k_distinct_substring(\"eceba\",2)"
   ]
  },
  {
   "cell_type": "code",
   "execution_count": 86,
   "metadata": {},
   "outputs": [],
   "source": [
    "def longest_consecutive_sequence(nums):\n",
    "    num_dict = {}\n",
    "    max_length = 0\n",
    "    for num in nums:\n",
    "        num_dict[num] = 1\n",
    "        \n",
    "    for i in range(len(nums)):\n",
    "        if nums[i]-1 not in num_dict:\n",
    "            current_streak = 1\n",
    "            current_num = nums[i]\n",
    "            while(current_num + 1 in num_dict):\n",
    "                current_streak += 1\n",
    "                current_num += 1\n",
    "            max_length = max(max_length,current_streak)\n",
    "    \n",
    "    return max_length        \n",
    "        "
   ]
  },
  {
   "cell_type": "code",
   "execution_count": 88,
   "metadata": {},
   "outputs": [
    {
     "data": {
      "text/plain": [
       "4"
      ]
     },
     "execution_count": 88,
     "metadata": {},
     "output_type": "execute_result"
    }
   ],
   "source": [
    "longest_consecutive_sequence([100, 4, 200, 1, 3, 2])"
   ]
  },
  {
   "cell_type": "code",
   "execution_count": 140,
   "metadata": {},
   "outputs": [],
   "source": [
    "from collections import Counter\n",
    "def minimum_window_substring(S:str,T:str):\n",
    "    #Two pointer approach\n",
    "    start = 0\n",
    "    end = 0\n",
    "    hash_set = Counter(T)\n",
    "    \n",
    "    find_set = {}\n",
    "    required = len(hash_set)\n",
    "    formed = 0\n",
    "    answer = (float(\"inf\"),0, 0)\n",
    "    \n",
    "    while(end < len(S)):\n",
    "        end_char = S[end]\n",
    "        if end_char in hash_set:\n",
    "            if end_char in find_set:\n",
    "                find_set[end_char] += 1\n",
    "            else:\n",
    "                find_set[end_char] = 1\n",
    "                    \n",
    "            if(find_set[end_char] == hash_set[end_char]):\n",
    "                formed += 1\n",
    "                  \n",
    "            \n",
    "            \n",
    "        while(formed == required):\n",
    "            #ans = (end-start+ 1,start,end)\n",
    "            if(end-start+1 < answer[0]):\n",
    "                answer = (end-start+1, start,end)\n",
    "                print(answer)\n",
    "                \n",
    "            \n",
    "            start_char = S[start]\n",
    "            \n",
    "            if(start_char in hash_set):\n",
    "                find_set[start_char] -= 1\n",
    "                \n",
    "                if(find_set[start_char] < hash_set[start_char]):\n",
    "                    formed -= 1\n",
    "            start += 1\n",
    "        \n",
    "            \n",
    "        end += 1\n",
    "        \n",
    "    if answer[0] == float(\"inf\"):\n",
    "        return \"\"\n",
    "    else:\n",
    "        return S[answer[1] : answer[2] + 1]\n",
    "\n",
    "                \n",
    "                \n",
    "        \n",
    "        \n",
    "        "
   ]
  },
  {
   "cell_type": "code",
   "execution_count": 141,
   "metadata": {},
   "outputs": [
    {
     "name": "stdout",
     "output_type": "stream",
     "text": [
      "(6, 0, 5)\n",
      "(5, 8, 12)\n",
      "(4, 9, 12)\n"
     ]
    },
    {
     "data": {
      "text/plain": [
       "'BANC'"
      ]
     },
     "execution_count": 141,
     "metadata": {},
     "output_type": "execute_result"
    }
   ],
   "source": [
    "S = \"ADOBECODEBANC\" \n",
    "T = \"ABC\"\n",
    "minimum_window_substring(S,T)"
   ]
  },
  {
   "cell_type": "code",
   "execution_count": 96,
   "metadata": {},
   "outputs": [],
   "source": [
    "a = Counter(T)"
   ]
  },
  {
   "cell_type": "code",
   "execution_count": 95,
   "metadata": {},
   "outputs": [],
   "source": [
    "T = \"AAAAA\""
   ]
  },
  {
   "cell_type": "code",
   "execution_count": 98,
   "metadata": {},
   "outputs": [
    {
     "name": "stdout",
     "output_type": "stream",
     "text": [
      "Counter({'A': 5})\n"
     ]
    }
   ],
   "source": [
    "print(a)"
   ]
  },
  {
   "cell_type": "code",
   "execution_count": 102,
   "metadata": {},
   "outputs": [
    {
     "data": {
      "text/plain": [
       "True"
      ]
     },
     "execution_count": 102,
     "metadata": {},
     "output_type": "execute_result"
    }
   ],
   "source": [
    "\"AAABCDE\" > \"AAAAAAAAAAAAAAAAAAAA\""
   ]
  },
  {
   "cell_type": "code",
   "execution_count": 104,
   "metadata": {},
   "outputs": [
    {
     "data": {
      "text/plain": [
       "True"
      ]
     },
     "execution_count": 104,
     "metadata": {},
     "output_type": "execute_result"
    }
   ],
   "source": [
    "\"B\" > \"AAB\""
   ]
  },
  {
   "cell_type": "code",
   "execution_count": 105,
   "metadata": {},
   "outputs": [],
   "source": [
    "formed = 0\n",
    "T = \"AAAABB\"\n",
    "S  = \"AAAAATBB\""
   ]
  },
  {
   "cell_type": "code",
   "execution_count": 106,
   "metadata": {},
   "outputs": [],
   "source": [
    "B = Counter(T)"
   ]
  },
  {
   "cell_type": "code",
   "execution_count": 107,
   "metadata": {},
   "outputs": [
    {
     "name": "stdout",
     "output_type": "stream",
     "text": [
      "Counter({'A': 4, 'B': 2})\n"
     ]
    }
   ],
   "source": [
    "print(B)"
   ]
  },
  {
   "cell_type": "code",
   "execution_count": 109,
   "metadata": {},
   "outputs": [],
   "source": [
    "a = float(\"inf\")"
   ]
  },
  {
   "cell_type": "code",
   "execution_count": 110,
   "metadata": {},
   "outputs": [
    {
     "name": "stdout",
     "output_type": "stream",
     "text": [
      "inf\n"
     ]
    }
   ],
   "source": [
    "print(a)"
   ]
  },
  {
   "cell_type": "code",
   "execution_count": 142,
   "metadata": {},
   "outputs": [],
   "source": [
    "#4Sum\n",
    "\n",
    "A = [ 1, 2]\n",
    "B = [-2,-1]\n",
    "C = [-1, 2]\n",
    "D = [ 0, 2]"
   ]
  },
  {
   "cell_type": "code",
   "execution_count": null,
   "metadata": {},
   "outputs": [],
   "source": []
  }
 ],
 "metadata": {
  "kernelspec": {
   "display_name": "Python 3",
   "language": "python",
   "name": "python3"
  },
  "language_info": {
   "codemirror_mode": {
    "name": "ipython",
    "version": 3
   },
   "file_extension": ".py",
   "mimetype": "text/x-python",
   "name": "python",
   "nbconvert_exporter": "python",
   "pygments_lexer": "ipython3",
   "version": "3.7.3"
  }
 },
 "nbformat": 4,
 "nbformat_minor": 2
}
