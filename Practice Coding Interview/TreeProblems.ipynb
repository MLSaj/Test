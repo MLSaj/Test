{
 "cells": [
  {
   "cell_type": "code",
   "execution_count": 1,
   "metadata": {},
   "outputs": [
    {
     "ename": "SyntaxError",
     "evalue": "invalid syntax (<ipython-input-1-5982f469c541>, line 91)",
     "output_type": "error",
     "traceback": [
      "\u001b[0;36m  File \u001b[0;32m\"<ipython-input-1-5982f469c541>\"\u001b[0;36m, line \u001b[0;32m91\u001b[0m\n\u001b[0;31m    if(right_node = None and start = True):\u001b[0m\n\u001b[0m                  ^\u001b[0m\n\u001b[0;31mSyntaxError\u001b[0m\u001b[0;31m:\u001b[0m invalid syntax\n"
     ]
    }
   ],
   "source": [
    "class TreeNode:\n",
    "    def __init__(self,x):\n",
    "        self.val = x\n",
    "        self.right = None\n",
    "        self.left = None\n",
    "    \n",
    "    def inorder_traversal(self,right=False):\n",
    "        if(not right):\n",
    "            print(self.val)\n",
    "            if self.left:\n",
    "                self.left.inorder_traversal(right=False)\n",
    "            if self.right:\n",
    "                self.right.inorder_traversal(right=True)       \n",
    "        if(right):\n",
    "            if(self.left):\n",
    "                self.left.inorder_traversal(right=False)\n",
    "            print(self.val)\n",
    "        #if(self.left is not None):\n",
    "           # self.left.inorder_traversal(right=False)\n",
    "        #if(self.right is not None):\n",
    "            #self.right.inorder_traversal(right=True)\n",
    "        #elif(self.right is None and self.left is None):\n",
    "            #print(self.val)\n",
    "            \n",
    "    def zigzag(self,start = False,zigzag=0,final_array=[]):\n",
    "        if start == True:\n",
    "            final_array.append([self.val])    \n",
    "        if(zigzag == 0):\n",
    "            array = []\n",
    "            if(self.left):\n",
    "                first_val = self.left.val\n",
    "                array.append(first_val)\n",
    "            if(self.right):\n",
    "                second_val = self.right.val\n",
    "                array.append(second_val)\n",
    "            if final_array != []:   \n",
    "                final_array.append(array)\n",
    "            if(self.left):\n",
    "                self.left.zigzag(start=False,zigzag=1, final_array=final_array)\n",
    "            if(self.right):\n",
    "                self.right.zigzag(start=False,zigzag=1, final_array=final_array)\n",
    "        \n",
    "        elif(zigzag ==1):\n",
    "            print(\"I am over here\")\n",
    "            array = []\n",
    "            if(self.right):\n",
    "                first_val = self.right.val\n",
    "                array.append(first_val)\n",
    "            if(self.left):\n",
    "                second_val = self.left.val\n",
    "                array.append(second_val)\n",
    "            if final_array != []:   \n",
    "                final_array.append(array)      \n",
    "            if(self.left):\n",
    "                self.left.zigzag(start=False,zigzag=0, final_array=final_array)\n",
    "            if(self.right):\n",
    "                self.right.zigzag(start=False,zigzag=0, final_array=final_array)\n",
    "                \n",
    "        return final_array\n",
    "            \n",
    "            \n",
    "    def dfs(self):\n",
    "        print(self.val)\n",
    "        if(self.left):\n",
    "            self.left.dfs()\n",
    "        if(self.right):\n",
    "            self.right.dfs()\n",
    "            \n",
    "    def level_order_traversal(self):\n",
    "        if(self is None):\n",
    "            return\n",
    "        \n",
    "        queue = []\n",
    "        \n",
    "        queue.append(self)\n",
    "        level = 0\n",
    "        while(len(queue) > 0):\n",
    "            #print(\"Level :\" + str(level))\n",
    "            node = queue.pop(0)\n",
    "            print(node.val)\n",
    "            if(node.left is not None):\n",
    "                #left = node.left\n",
    "                queue.append(node.left) \n",
    "            if(node.right is not None):\n",
    "                #right = node.right\n",
    "                queue.append(node.right) \n",
    "            #node.right = None\n",
    "            #node.left.right = node.right\n",
    "            \n",
    "    def right_point_null(self,start=False,right_node = None):\n",
    "        if(right_node = None and start = True):\n",
    "            node = self\n",
    "            if(node.left):\n",
    "                left = node.left\n",
    "                if(node.left.right):\n",
    "                    level_down_right = node.left.right\n",
    "            if(node.right):\n",
    "                right = node.right\n",
    "            node.right = None\n",
    "            node.left.right = right\n",
    "            \n",
    "        \n",
    "            \n",
    "        \n",
    "        \n",
    "        \n",
    "        holder = \n",
    "        \n",
    "                \n",
    "            \n",
    "        \n",
    "            \n",
    "        \n",
    "            \n",
    "        #if(not right):\n",
    "            #current = self\n",
    "            #print(current.val)\n",
    "        #if(current.left):\n",
    "            #inorder_traversal(current.left)\n",
    "            #inorder_traversal(current.right)\n",
    "        #else:\n",
    "            #inorder_traversal(current.right, right= True)\n"
   ]
  },
  {
   "cell_type": "code",
   "execution_count": 23,
   "metadata": {},
   "outputs": [
    {
     "name": "stdout",
     "output_type": "stream",
     "text": [
      "hello world\n"
     ]
    }
   ],
   "source": [
    "print(\"hello world\")"
   ]
  },
  {
   "cell_type": "code",
   "execution_count": 32,
   "metadata": {},
   "outputs": [],
   "source": [
    "start = TreeNode(\"1\")\n",
    "start.right = TreeNode(\"2\")\n",
    "start.right.left = TreeNode(\"3\")"
   ]
  },
  {
   "cell_type": "code",
   "execution_count": 33,
   "metadata": {},
   "outputs": [
    {
     "name": "stdout",
     "output_type": "stream",
     "text": [
      "1\n",
      "3\n",
      "2\n"
     ]
    }
   ],
   "source": [
    "start.inorder_traversal()"
   ]
  },
  {
   "cell_type": "code",
   "execution_count": 30,
   "metadata": {},
   "outputs": [],
   "source": [
    "if(not start):\n",
    "    print(\"hello\")"
   ]
  },
  {
   "cell_type": "code",
   "execution_count": 79,
   "metadata": {},
   "outputs": [],
   "source": [
    "zigzag = TreeNode(\"3\")"
   ]
  },
  {
   "cell_type": "code",
   "execution_count": 80,
   "metadata": {},
   "outputs": [],
   "source": [
    "zigzag.left = TreeNode(\"9\")\n",
    "zigzag.right = TreeNode(\"20\")\n",
    "zigzag.right.left = TreeNode(\"15\")\n",
    "zigzag.right.right = TreeNode(\"7\")"
   ]
  },
  {
   "cell_type": "code",
   "execution_count": 81,
   "metadata": {},
   "outputs": [
    {
     "name": "stdout",
     "output_type": "stream",
     "text": [
      "3\n",
      "9\n",
      "20\n",
      "15\n",
      "7\n"
     ]
    }
   ],
   "source": [
    "zigzag.dfs()"
   ]
  },
  {
   "cell_type": "code",
   "execution_count": 82,
   "metadata": {},
   "outputs": [
    {
     "name": "stdout",
     "output_type": "stream",
     "text": [
      "I am over here\n",
      "I am over here\n"
     ]
    }
   ],
   "source": [
    "final_array = zigzag.zigzag(start=True)"
   ]
  },
  {
   "cell_type": "code",
   "execution_count": 84,
   "metadata": {},
   "outputs": [
    {
     "data": {
      "text/plain": [
       "[['3'], ['9', '20'], [], ['7', '15'], [], []]"
      ]
     },
     "execution_count": 84,
     "metadata": {},
     "output_type": "execute_result"
    }
   ],
   "source": [
    "final_array"
   ]
  },
  {
   "cell_type": "code",
   "execution_count": 129,
   "metadata": {},
   "outputs": [],
   "source": [
    "A = TreeNode(\"1\")\n",
    "B = TreeNode(\"2\")\n",
    "C = TreeNode(\"3\")\n",
    "A.left = B\n",
    "A.right = C\n",
    "B.left = TreeNode(\"4\")\n",
    "B.right = TreeNode(\"5\")\n",
    "\n",
    "\n",
    "C.left = TreeNode(\"6\")\n",
    "C.right = TreeNode(\"7\")\n"
   ]
  },
  {
   "cell_type": "code",
   "execution_count": 107,
   "metadata": {},
   "outputs": [
    {
     "name": "stdout",
     "output_type": "stream",
     "text": [
      "1\n",
      "2\n",
      "4\n",
      "5\n",
      "3\n",
      "6\n",
      "7\n"
     ]
    }
   ],
   "source": [
    "A.dfs()"
   ]
  },
  {
   "cell_type": "code",
   "execution_count": 130,
   "metadata": {},
   "outputs": [
    {
     "name": "stdout",
     "output_type": "stream",
     "text": [
      "1\n",
      "2\n",
      "3\n",
      "4\n",
      "5\n",
      "6\n",
      "7\n"
     ]
    }
   ],
   "source": [
    "A.level_order_traversal()"
   ]
  },
  {
   "cell_type": "code",
   "execution_count": 104,
   "metadata": {},
   "outputs": [
    {
     "data": {
      "text/plain": [
       "3"
      ]
     },
     "execution_count": 104,
     "metadata": {},
     "output_type": "execute_result"
    }
   ],
   "source": [
    "a = [1,2,3]\n",
    "a.pop()"
   ]
  },
  {
   "cell_type": "code",
   "execution_count": 109,
   "metadata": {},
   "outputs": [
    {
     "data": {
      "text/plain": [
       "[1, 2]"
      ]
     },
     "execution_count": 109,
     "metadata": {},
     "output_type": "execute_result"
    }
   ],
   "source": [
    "a"
   ]
  },
  {
   "cell_type": "code",
   "execution_count": 110,
   "metadata": {},
   "outputs": [],
   "source": [
    "a = [1]"
   ]
  },
  {
   "cell_type": "code",
   "execution_count": 111,
   "metadata": {},
   "outputs": [
    {
     "data": {
      "text/plain": [
       "1"
      ]
     },
     "execution_count": 111,
     "metadata": {},
     "output_type": "execute_result"
    }
   ],
   "source": [
    "a.pop(0)"
   ]
  },
  {
   "cell_type": "code",
   "execution_count": 112,
   "metadata": {},
   "outputs": [
    {
     "data": {
      "text/plain": [
       "0"
      ]
     },
     "execution_count": 112,
     "metadata": {},
     "output_type": "execute_result"
    }
   ],
   "source": [
    "len(a)"
   ]
  },
  {
   "cell_type": "code",
   "execution_count": 131,
   "metadata": {},
   "outputs": [
    {
     "data": {
      "text/plain": [
       "'a'"
      ]
     },
     "execution_count": 131,
     "metadata": {},
     "output_type": "execute_result"
    }
   ],
   "source": [
    "a = \"cat\"\n",
    "i = 1 \n",
    "a[i]"
   ]
  },
  {
   "cell_type": "code",
   "execution_count": 132,
   "metadata": {},
   "outputs": [
    {
     "ename": "SyntaxError",
     "evalue": "invalid syntax (<ipython-input-132-6319232a7239>, line 1)",
     "output_type": "error",
     "traceback": [
      "\u001b[0;36m  File \u001b[0;32m\"<ipython-input-132-6319232a7239>\"\u001b[0;36m, line \u001b[0;32m1\u001b[0m\n\u001b[0;31m    a[i++]\u001b[0m\n\u001b[0m         ^\u001b[0m\n\u001b[0;31mSyntaxError\u001b[0m\u001b[0;31m:\u001b[0m invalid syntax\n"
     ]
    }
   ],
   "source": [
    "a[i++]"
   ]
  },
  {
   "cell_type": "code",
   "execution_count": 2,
   "metadata": {},
   "outputs": [],
   "source": [
    "class TreeNode:\n",
    "    def __init__(self,x):\n",
    "        self.val = x\n",
    "        self.right = None\n",
    "        self.left = None"
   ]
  },
  {
   "cell_type": "code",
   "execution_count": 9,
   "metadata": {},
   "outputs": [],
   "source": [
    "root = TreeNode(3)\n",
    "root.left = TreeNode(1)\n",
    "root.left.left = TreeNode(1)\n",
    "root.left.right = TreeNode(2)\n",
    "\n",
    "root.right = TreeNode(8)\n",
    "root.right.right = TreeNode(13)\n",
    "root.right.left = TreeNode(5)\n",
    "\n",
    "\n",
    "new_root = TreeNode(8)\n",
    "new_root.left = TreeNode(3)\n",
    "new_root.right = TreeNode(13)\n",
    "new_root.left.left = TreeNode(1)\n",
    "new_root.left.right = TreeNode(5)\n",
    "new_root.left.left.left = TreeNode(1)\n",
    "new_root.left.left.right = TreeNode(2)"
   ]
  },
  {
   "cell_type": "code",
   "execution_count": 7,
   "metadata": {},
   "outputs": [],
   "source": [
    "def print_tree(root):\n",
    "    if not root.left and root.right:\n",
    "        print(root.val)\n",
    "    if root.left != None:\n",
    "        print_tree(root.left)\n",
    "    print(root.val)\n",
    "    if root.right != None:\n",
    "        print_tree(root.right)"
   ]
  },
  {
   "cell_type": "code",
   "execution_count": 10,
   "metadata": {},
   "outputs": [
    {
     "name": "stdout",
     "output_type": "stream",
     "text": [
      "1\n",
      "1\n",
      "2\n",
      "3\n",
      "5\n",
      "8\n",
      "13\n"
     ]
    }
   ],
   "source": [
    "print_tree(new_root)"
   ]
  },
  {
   "cell_type": "code",
   "execution_count": 11,
   "metadata": {},
   "outputs": [
    {
     "name": "stdout",
     "output_type": "stream",
     "text": [
      "1\n",
      "1\n",
      "2\n",
      "3\n",
      "5\n",
      "8\n",
      "13\n"
     ]
    }
   ],
   "source": [
    "print_tree(root)"
   ]
  },
  {
   "cell_type": "code",
   "execution_count": 12,
   "metadata": {},
   "outputs": [
    {
     "data": {
      "text/plain": [
       "True"
      ]
     },
     "execution_count": 12,
     "metadata": {},
     "output_type": "execute_result"
    }
   ],
   "source": [
    "root is root"
   ]
  },
  {
   "cell_type": "code",
   "execution_count": 13,
   "metadata": {},
   "outputs": [
    {
     "data": {
      "text/plain": [
       "True"
      ]
     },
     "execution_count": 13,
     "metadata": {},
     "output_type": "execute_result"
    }
   ],
   "source": [
    "root is not new_root"
   ]
  },
  {
   "cell_type": "code",
   "execution_count": 14,
   "metadata": {},
   "outputs": [],
   "source": [
    "a = TreeNode(3)\n",
    "b = TreeNode(3)"
   ]
  },
  {
   "cell_type": "code",
   "execution_count": 15,
   "metadata": {},
   "outputs": [
    {
     "data": {
      "text/plain": [
       "False"
      ]
     },
     "execution_count": 15,
     "metadata": {},
     "output_type": "execute_result"
    }
   ],
   "source": [
    "a is b"
   ]
  },
  {
   "cell_type": "code",
   "execution_count": 16,
   "metadata": {},
   "outputs": [
    {
     "data": {
      "text/plain": [
       "False"
      ]
     },
     "execution_count": 16,
     "metadata": {},
     "output_type": "execute_result"
    }
   ],
   "source": [
    "a == b"
   ]
  },
  {
   "cell_type": "code",
   "execution_count": 17,
   "metadata": {},
   "outputs": [],
   "source": [
    "def print_tree_preorder(root):\n",
    "    if not root.left and root.right:\n",
    "        print(root.val)\n",
    "    print(root.val)  \n",
    "    if root.left != None:\n",
    "        print_tree(root.left)\n",
    "    if root.right != None:\n",
    "        print_tree(root.right)"
   ]
  },
  {
   "cell_type": "code",
   "execution_count": 18,
   "metadata": {},
   "outputs": [
    {
     "name": "stdout",
     "output_type": "stream",
     "text": [
      "8\n",
      "1\n",
      "1\n",
      "2\n",
      "3\n",
      "5\n",
      "13\n"
     ]
    }
   ],
   "source": [
    "print_tree_preorder(new_root)"
   ]
  },
  {
   "cell_type": "code",
   "execution_count": 19,
   "metadata": {},
   "outputs": [
    {
     "name": "stdout",
     "output_type": "stream",
     "text": [
      "3\n",
      "1\n",
      "1\n",
      "2\n",
      "5\n",
      "8\n",
      "13\n"
     ]
    }
   ],
   "source": [
    "print_tree_preorder(root)"
   ]
  },
  {
   "cell_type": "code",
   "execution_count": 33,
   "metadata": {},
   "outputs": [
    {
     "name": "stdout",
     "output_type": "stream",
     "text": [
      "False\n"
     ]
    }
   ],
   "source": [
    "#nums = [2,1,5,0,4,6]\n",
    "nums= [1,0,3]\n",
    "i = 0\n",
    "j = 1\n",
    "current_max = 0\n",
    "total_max = 0\n",
    "while(j < len(nums) and total_max < 2):\n",
    "    if(nums[j] > nums[i]):\n",
    "        current_max += 1\n",
    "        i += 1\n",
    "        j += 1\n",
    "        total_max = max(current_max,total_max)\n",
    "    else:\n",
    "        total_max = max(current_max,total_max)\n",
    "        current_max = 0\n",
    "        i += 1 \n",
    "        j += 1\n",
    "    \n",
    "\n",
    "if(total_max == 2):\n",
    "    print(True)\n",
    "else:\n",
    "    print(False)\n",
    "    "
   ]
  },
  {
   "cell_type": "code",
   "execution_count": 31,
   "metadata": {},
   "outputs": [
    {
     "data": {
      "text/plain": [
       "2"
      ]
     },
     "execution_count": 31,
     "metadata": {},
     "output_type": "execute_result"
    }
   ],
   "source": [
    "total_max"
   ]
  },
  {
   "cell_type": "code",
   "execution_count": 35,
   "metadata": {},
   "outputs": [
    {
     "data": {
      "text/plain": [
       "False"
      ]
     },
     "execution_count": 35,
     "metadata": {},
     "output_type": "execute_result"
    }
   ],
   "source": [
    "2 >= 3"
   ]
  },
  {
   "cell_type": "code",
   "execution_count": 36,
   "metadata": {},
   "outputs": [
    {
     "data": {
      "text/plain": [
       "True"
      ]
     },
     "execution_count": 36,
     "metadata": {},
     "output_type": "execute_result"
    }
   ],
   "source": [
    "2 <= 3"
   ]
  },
  {
   "cell_type": "code",
   "execution_count": null,
   "metadata": {},
   "outputs": [],
   "source": []
  }
 ],
 "metadata": {
  "kernelspec": {
   "display_name": "Python 3",
   "language": "python",
   "name": "python3"
  },
  "language_info": {
   "codemirror_mode": {
    "name": "ipython",
    "version": 3
   },
   "file_extension": ".py",
   "mimetype": "text/x-python",
   "name": "python",
   "nbconvert_exporter": "python",
   "pygments_lexer": "ipython3",
   "version": "3.7.3"
  }
 },
 "nbformat": 4,
 "nbformat_minor": 2
}
