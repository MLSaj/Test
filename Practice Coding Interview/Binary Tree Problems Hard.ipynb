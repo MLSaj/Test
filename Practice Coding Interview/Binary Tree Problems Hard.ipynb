{
 "cells": [
  {
   "cell_type": "code",
   "execution_count": 102,
   "metadata": {},
   "outputs": [],
   "source": [
    "preReqs = [[0,1], [0,2],[1,3],[2,3]]\n",
    "courses = 4\n",
    "graph = [[]]*courses\n",
    "ranks = [0] * courses\n",
    "\n"
   ]
  },
  {
   "cell_type": "code",
   "execution_count": 103,
   "metadata": {},
   "outputs": [
    {
     "name": "stdout",
     "output_type": "stream",
     "text": [
      "[3]\n",
      "[1, 2]\n",
      "[1, 0]\n",
      "[1]\n",
      "[0]\n",
      "-1\n"
     ]
    }
   ],
   "source": [
    "for item1,item2 in preReqs:\n",
    "    if(len(graph[item2]) > 0):\n",
    "        graph[item2] += [item1]\n",
    "    else:\n",
    "        graph[item2] = [item1]\n",
    "    ranks[item1] += 1\n",
    "    \n",
    "queue = []\n",
    "for i in range(len(ranks)):\n",
    "    if(ranks[i] == 0):\n",
    "        queue.append(i)\n",
    "        \n",
    "while(len(queue) != 0):\n",
    "    print(queue)\n",
    "    item = queue.pop()\n",
    "    courses -= 1\n",
    "    for neighbor in graph[item]:\n",
    "        ranks[neighbor] -= 1\n",
    "        if(ranks[neighbor] <= 0):\n",
    "            queue.append(neighbor)\n",
    "\n",
    "print(courses)"
   ]
  },
  {
   "cell_type": "code",
   "execution_count": 96,
   "metadata": {},
   "outputs": [
    {
     "data": {
      "text/plain": [
       "[3]"
      ]
     },
     "execution_count": 96,
     "metadata": {},
     "output_type": "execute_result"
    }
   ],
   "source": [
    "queue"
   ]
  },
  {
   "cell_type": "code",
   "execution_count": 14,
   "metadata": {},
   "outputs": [],
   "source": []
  },
  {
   "cell_type": "code",
   "execution_count": 64,
   "metadata": {},
   "outputs": [],
   "source": [
    "graph[0] += [2]"
   ]
  },
  {
   "cell_type": "code",
   "execution_count": 70,
   "metadata": {},
   "outputs": [
    {
     "data": {
      "text/plain": [
       "0"
      ]
     },
     "execution_count": 70,
     "metadata": {},
     "output_type": "execute_result"
    }
   ],
   "source": [
    "len(graph[0])"
   ]
  },
  {
   "cell_type": "code",
   "execution_count": 97,
   "metadata": {},
   "outputs": [
    {
     "data": {
      "text/plain": [
       "[[], [0], [0], [1, 2]]"
      ]
     },
     "execution_count": 97,
     "metadata": {},
     "output_type": "execute_result"
    }
   ],
   "source": [
    "graph"
   ]
  },
  {
   "cell_type": "code",
   "execution_count": 92,
   "metadata": {},
   "outputs": [
    {
     "data": {
      "text/plain": [
       "[2, 1, 1, 0]"
      ]
     },
     "execution_count": 92,
     "metadata": {},
     "output_type": "execute_result"
    }
   ],
   "source": [
    "ranks"
   ]
  },
  {
   "cell_type": "code",
   "execution_count": 98,
   "metadata": {},
   "outputs": [
    {
     "name": "stdout",
     "output_type": "stream",
     "text": [
      "1\n",
      "2\n"
     ]
    }
   ],
   "source": [
    "for item in graph[3]:\n",
    "    print(item)"
   ]
  },
  {
   "cell_type": "code",
   "execution_count": 109,
   "metadata": {},
   "outputs": [],
   "source": [
    "preReqs = [[1,0],[1,2],[0,1]]\n",
    "courses = 3\n",
    "graph = [[]]*courses\n",
    "ranks = [0] * courses\n",
    "for item1,item2 in preReqs:\n",
    "    if(len(graph[item2]) > 0):\n",
    "        graph[item2] += [item1]\n",
    "    else:\n",
    "        graph[item2] = [item1]\n",
    "    ranks[item1] += 1"
   ]
  },
  {
   "cell_type": "code",
   "execution_count": 110,
   "metadata": {},
   "outputs": [
    {
     "data": {
      "text/plain": [
       "[[1], [0], [1]]"
      ]
     },
     "execution_count": 110,
     "metadata": {},
     "output_type": "execute_result"
    }
   ],
   "source": [
    "graph"
   ]
  },
  {
   "cell_type": "code",
   "execution_count": 111,
   "metadata": {},
   "outputs": [
    {
     "data": {
      "text/plain": [
       "[1, 2, 0]"
      ]
     },
     "execution_count": 111,
     "metadata": {},
     "output_type": "execute_result"
    }
   ],
   "source": [
    "ranks"
   ]
  },
  {
   "cell_type": "code",
   "execution_count": 112,
   "metadata": {},
   "outputs": [],
   "source": [
    "queue = []\n",
    "for i in range(len(ranks)):\n",
    "    if(ranks[i] == 0):\n",
    "        queue.append(i)"
   ]
  },
  {
   "cell_type": "code",
   "execution_count": 113,
   "metadata": {},
   "outputs": [
    {
     "data": {
      "text/plain": [
       "[2]"
      ]
     },
     "execution_count": 113,
     "metadata": {},
     "output_type": "execute_result"
    }
   ],
   "source": [
    "queue"
   ]
  },
  {
   "cell_type": "code",
   "execution_count": 114,
   "metadata": {},
   "outputs": [],
   "source": [
    "item = queue.pop()"
   ]
  },
  {
   "cell_type": "code",
   "execution_count": 115,
   "metadata": {},
   "outputs": [
    {
     "data": {
      "text/plain": [
       "2"
      ]
     },
     "execution_count": 115,
     "metadata": {},
     "output_type": "execute_result"
    }
   ],
   "source": [
    "item"
   ]
  },
  {
   "cell_type": "code",
   "execution_count": 118,
   "metadata": {},
   "outputs": [
    {
     "data": {
      "text/plain": [
       "0"
      ]
     },
     "execution_count": 118,
     "metadata": {},
     "output_type": "execute_result"
    }
   ],
   "source": [
    "ranks[item]"
   ]
  },
  {
   "cell_type": "code",
   "execution_count": null,
   "metadata": {},
   "outputs": [],
   "source": []
  },
  {
   "cell_type": "code",
   "execution_count": null,
   "metadata": {},
   "outputs": [],
   "source": [
    "for neighbor in graph[item]:\n",
    "        queue.append(neighbor)"
   ]
  },
  {
   "cell_type": "code",
   "execution_count": 11,
   "metadata": {},
   "outputs": [
    {
     "ename": "SyntaxError",
     "evalue": "'return' outside function (<ipython-input-11-6f842a93eb91>, line 32)",
     "output_type": "error",
     "traceback": [
      "\u001b[0;36m  File \u001b[0;32m\"<ipython-input-11-6f842a93eb91>\"\u001b[0;36m, line \u001b[0;32m32\u001b[0m\n\u001b[0;31m    return level + 1\u001b[0m\n\u001b[0m    ^\u001b[0m\n\u001b[0;31mSyntaxError\u001b[0m\u001b[0;31m:\u001b[0m 'return' outside function\n"
     ]
    }
   ],
   "source": [
    "import collections\n",
    "from collections import defaultdict\n",
    "\n",
    "\n",
    "beginWord = \"hit\"\n",
    "endWord = \"cog\"\n",
    "wordList = [\"hot\",\"dot\",\"dog\",\"lot\",\"log\",\"cog\"]\n",
    "\n",
    "L = len(beginWord)\n",
    "\n",
    "all_combo_dict = defaultdict(list)\n",
    "\n",
    "for word in wordList:\n",
    "    for i in range(L):\n",
    "        # Key is the generic word\n",
    "        # Value is a list of words which have the same intermediate generic word.\n",
    "        all_combo_dict[word[:i] + \"*\" + word[i+1:]].append(word)\n",
    "\n",
    "\n",
    "        \n",
    "queue = collections.deque([(beginWord, 1)])\n",
    "visited = {beginWord:True}\n",
    "\n",
    "while(queue):\n",
    "    current_word ,level = queue.popleft()\n",
    "    for i in range(L):\n",
    "        intermediate_word = current_word[:i] + \"*\" + current_word[i+1:]\n",
    "        \n",
    "        for word in all_combo_dict[intermediate_word]:\n",
    "            \n",
    "            if word == endWord:\n",
    "                return level + 1\n",
    "            if word not in visited:\n",
    "                visited[word] = True\n",
    "                queue.append(word,level + 1)\n",
    "        all_combo_dict[intermediate_word] = []\n",
    "return 0"
   ]
  },
  {
   "cell_type": "code",
   "execution_count": 8,
   "metadata": {},
   "outputs": [
    {
     "data": {
      "text/plain": [
       "defaultdict(list,\n",
       "            {'*ot': ['hot', 'dot', 'lot'],\n",
       "             'h*t': ['hot'],\n",
       "             'ho*': ['hot'],\n",
       "             'd*t': ['dot'],\n",
       "             'do*': ['dot', 'dog'],\n",
       "             '*og': ['dog', 'log', 'cog'],\n",
       "             'd*g': ['dog'],\n",
       "             'l*t': ['lot'],\n",
       "             'lo*': ['lot', 'log'],\n",
       "             'l*g': ['log'],\n",
       "             'c*g': ['cog'],\n",
       "             'co*': ['cog']})"
      ]
     },
     "execution_count": 8,
     "metadata": {},
     "output_type": "execute_result"
    }
   ],
   "source": [
    "all_combo_dict"
   ]
  },
  {
   "cell_type": "code",
   "execution_count": 9,
   "metadata": {},
   "outputs": [],
   "source": [
    "queue = collections.deque([(beginWord, 1)])"
   ]
  },
  {
   "cell_type": "code",
   "execution_count": 10,
   "metadata": {},
   "outputs": [
    {
     "name": "stdout",
     "output_type": "stream",
     "text": [
      "deque([('hit', 1)])\n"
     ]
    }
   ],
   "source": [
    "print(queue)"
   ]
  },
  {
   "cell_type": "code",
   "execution_count": null,
   "metadata": {},
   "outputs": [],
   "source": []
  }
 ],
 "metadata": {
  "kernelspec": {
   "display_name": "Python 3",
   "language": "python",
   "name": "python3"
  },
  "language_info": {
   "codemirror_mode": {
    "name": "ipython",
    "version": 3
   },
   "file_extension": ".py",
   "mimetype": "text/x-python",
   "name": "python",
   "nbconvert_exporter": "python",
   "pygments_lexer": "ipython3",
   "version": "3.7.3"
  }
 },
 "nbformat": 4,
 "nbformat_minor": 2
}
